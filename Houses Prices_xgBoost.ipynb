{
 "cells": [
  {
   "cell_type": "code",
   "execution_count": 72,
   "id": "8a86c6cf",
   "metadata": {},
   "outputs": [],
   "source": [
    "import pandas as pd\n",
    "import numpy as np\n",
    "import matplotlib.pyplot as plt\n",
    "import seaborn as sns\n",
    "import xgboost as xgb\n",
    "import graphviz\n",
    "sns.set_theme(style=\"darkgrid\", palette=None) # making the seaborn as default template for matplotlib\n",
    "\n",
    "from pandas.api.types import infer_dtype\n",
    "from sklearn.preprocessing import OneHotEncoder\n",
    "from sklearn.model_selection import train_test_split\n",
    "from sklearn.model_selection import learning_curve\n",
    "# from sklearn.metrics import balanced_accuracy_score\n",
    "from sklearn.model_selection import cross_val_score\n",
    "# from sklearn.model_selection import GridSearchCV\n",
    "# from sklearn.metrics import confusion_matrix\n",
    "# from sklearn.metrics import accuracy_score\n",
    "# from sklearn.metrics import plot_confusion_matrix\n",
    "from sklearn.metrics import mean_squared_error\n",
    "from sklearn.metrics import r2_score\n",
    "\n",
    "from xgboost import plot_tree\n",
    "from xgboost import XGBRegressor"
   ]
  },
  {
   "cell_type": "markdown",
   "id": "e2ea340b",
   "metadata": {},
   "source": [
    "***\n",
    "### Train.csv\n",
    "***"
   ]
  },
  {
   "cell_type": "code",
   "execution_count": 28,
   "id": "42f07e48",
   "metadata": {},
   "outputs": [
    {
     "data": {
      "text/html": [
       "<div>\n",
       "<style scoped>\n",
       "    .dataframe tbody tr th:only-of-type {\n",
       "        vertical-align: middle;\n",
       "    }\n",
       "\n",
       "    .dataframe tbody tr th {\n",
       "        vertical-align: top;\n",
       "    }\n",
       "\n",
       "    .dataframe thead th {\n",
       "        text-align: right;\n",
       "    }\n",
       "</style>\n",
       "<table border=\"1\" class=\"dataframe\">\n",
       "  <thead>\n",
       "    <tr style=\"text-align: right;\">\n",
       "      <th></th>\n",
       "      <th>Id</th>\n",
       "      <th>MSSubClass</th>\n",
       "      <th>MSZoning</th>\n",
       "      <th>LotFrontage</th>\n",
       "      <th>LotArea</th>\n",
       "      <th>Street</th>\n",
       "      <th>Alley</th>\n",
       "      <th>LotShape</th>\n",
       "      <th>LandContour</th>\n",
       "      <th>Utilities</th>\n",
       "      <th>...</th>\n",
       "      <th>PoolArea</th>\n",
       "      <th>PoolQC</th>\n",
       "      <th>Fence</th>\n",
       "      <th>MiscFeature</th>\n",
       "      <th>MiscVal</th>\n",
       "      <th>MoSold</th>\n",
       "      <th>YrSold</th>\n",
       "      <th>SaleType</th>\n",
       "      <th>SaleCondition</th>\n",
       "      <th>SalePrice</th>\n",
       "    </tr>\n",
       "  </thead>\n",
       "  <tbody>\n",
       "    <tr>\n",
       "      <th>0</th>\n",
       "      <td>1</td>\n",
       "      <td>60</td>\n",
       "      <td>RL</td>\n",
       "      <td>65.0</td>\n",
       "      <td>8450</td>\n",
       "      <td>Pave</td>\n",
       "      <td>NaN</td>\n",
       "      <td>Reg</td>\n",
       "      <td>Lvl</td>\n",
       "      <td>AllPub</td>\n",
       "      <td>...</td>\n",
       "      <td>0</td>\n",
       "      <td>NaN</td>\n",
       "      <td>NaN</td>\n",
       "      <td>NaN</td>\n",
       "      <td>0</td>\n",
       "      <td>2</td>\n",
       "      <td>2008</td>\n",
       "      <td>WD</td>\n",
       "      <td>Normal</td>\n",
       "      <td>208500</td>\n",
       "    </tr>\n",
       "    <tr>\n",
       "      <th>1</th>\n",
       "      <td>2</td>\n",
       "      <td>20</td>\n",
       "      <td>RL</td>\n",
       "      <td>80.0</td>\n",
       "      <td>9600</td>\n",
       "      <td>Pave</td>\n",
       "      <td>NaN</td>\n",
       "      <td>Reg</td>\n",
       "      <td>Lvl</td>\n",
       "      <td>AllPub</td>\n",
       "      <td>...</td>\n",
       "      <td>0</td>\n",
       "      <td>NaN</td>\n",
       "      <td>NaN</td>\n",
       "      <td>NaN</td>\n",
       "      <td>0</td>\n",
       "      <td>5</td>\n",
       "      <td>2007</td>\n",
       "      <td>WD</td>\n",
       "      <td>Normal</td>\n",
       "      <td>181500</td>\n",
       "    </tr>\n",
       "    <tr>\n",
       "      <th>2</th>\n",
       "      <td>3</td>\n",
       "      <td>60</td>\n",
       "      <td>RL</td>\n",
       "      <td>68.0</td>\n",
       "      <td>11250</td>\n",
       "      <td>Pave</td>\n",
       "      <td>NaN</td>\n",
       "      <td>IR1</td>\n",
       "      <td>Lvl</td>\n",
       "      <td>AllPub</td>\n",
       "      <td>...</td>\n",
       "      <td>0</td>\n",
       "      <td>NaN</td>\n",
       "      <td>NaN</td>\n",
       "      <td>NaN</td>\n",
       "      <td>0</td>\n",
       "      <td>9</td>\n",
       "      <td>2008</td>\n",
       "      <td>WD</td>\n",
       "      <td>Normal</td>\n",
       "      <td>223500</td>\n",
       "    </tr>\n",
       "    <tr>\n",
       "      <th>3</th>\n",
       "      <td>4</td>\n",
       "      <td>70</td>\n",
       "      <td>RL</td>\n",
       "      <td>60.0</td>\n",
       "      <td>9550</td>\n",
       "      <td>Pave</td>\n",
       "      <td>NaN</td>\n",
       "      <td>IR1</td>\n",
       "      <td>Lvl</td>\n",
       "      <td>AllPub</td>\n",
       "      <td>...</td>\n",
       "      <td>0</td>\n",
       "      <td>NaN</td>\n",
       "      <td>NaN</td>\n",
       "      <td>NaN</td>\n",
       "      <td>0</td>\n",
       "      <td>2</td>\n",
       "      <td>2006</td>\n",
       "      <td>WD</td>\n",
       "      <td>Abnorml</td>\n",
       "      <td>140000</td>\n",
       "    </tr>\n",
       "    <tr>\n",
       "      <th>4</th>\n",
       "      <td>5</td>\n",
       "      <td>60</td>\n",
       "      <td>RL</td>\n",
       "      <td>84.0</td>\n",
       "      <td>14260</td>\n",
       "      <td>Pave</td>\n",
       "      <td>NaN</td>\n",
       "      <td>IR1</td>\n",
       "      <td>Lvl</td>\n",
       "      <td>AllPub</td>\n",
       "      <td>...</td>\n",
       "      <td>0</td>\n",
       "      <td>NaN</td>\n",
       "      <td>NaN</td>\n",
       "      <td>NaN</td>\n",
       "      <td>0</td>\n",
       "      <td>12</td>\n",
       "      <td>2008</td>\n",
       "      <td>WD</td>\n",
       "      <td>Normal</td>\n",
       "      <td>250000</td>\n",
       "    </tr>\n",
       "  </tbody>\n",
       "</table>\n",
       "<p>5 rows × 81 columns</p>\n",
       "</div>"
      ],
      "text/plain": [
       "   Id  MSSubClass MSZoning  LotFrontage  LotArea Street Alley LotShape  \\\n",
       "0   1          60       RL         65.0     8450   Pave   NaN      Reg   \n",
       "1   2          20       RL         80.0     9600   Pave   NaN      Reg   \n",
       "2   3          60       RL         68.0    11250   Pave   NaN      IR1   \n",
       "3   4          70       RL         60.0     9550   Pave   NaN      IR1   \n",
       "4   5          60       RL         84.0    14260   Pave   NaN      IR1   \n",
       "\n",
       "  LandContour Utilities  ... PoolArea PoolQC Fence MiscFeature MiscVal MoSold  \\\n",
       "0         Lvl    AllPub  ...        0    NaN   NaN         NaN       0      2   \n",
       "1         Lvl    AllPub  ...        0    NaN   NaN         NaN       0      5   \n",
       "2         Lvl    AllPub  ...        0    NaN   NaN         NaN       0      9   \n",
       "3         Lvl    AllPub  ...        0    NaN   NaN         NaN       0      2   \n",
       "4         Lvl    AllPub  ...        0    NaN   NaN         NaN       0     12   \n",
       "\n",
       "  YrSold  SaleType  SaleCondition  SalePrice  \n",
       "0   2008        WD         Normal     208500  \n",
       "1   2007        WD         Normal     181500  \n",
       "2   2008        WD         Normal     223500  \n",
       "3   2006        WD        Abnorml     140000  \n",
       "4   2008        WD         Normal     250000  \n",
       "\n",
       "[5 rows x 81 columns]"
      ]
     },
     "execution_count": 28,
     "metadata": {},
     "output_type": "execute_result"
    }
   ],
   "source": [
    "train = pd.read_csv('train.csv')\n",
    "train.head()"
   ]
  },
  {
   "cell_type": "markdown",
   "id": "03d20faf",
   "metadata": {},
   "source": [
    "### Check Target Distribution"
   ]
  },
  {
   "cell_type": "raw",
   "id": "359e0b37",
   "metadata": {},
   "source": [
    "1. Raw data from SalePrice\n",
    "2. log value of SalePrice"
   ]
  },
  {
   "cell_type": "code",
   "execution_count": 29,
   "id": "ea4304b6",
   "metadata": {},
   "outputs": [
    {
     "data": {
      "text/plain": [
       "<matplotlib.lines.Line2D at 0x1d775af0130>"
      ]
     },
     "execution_count": 29,
     "metadata": {},
     "output_type": "execute_result"
    },
    {
     "data": {
      "image/png": "[encoded data removed]",
      "text/plain": [
       "<Figure size 1080x216 with 2 Axes>"
      ]
     },
     "metadata": {},
     "output_type": "display_data"
    }
   ],
   "source": [
    "fig, ax = plt.subplots(1, 2, figsize= (15,3))\n",
    "\n",
    "sns.histplot(ax=ax[0], data=train, x='SalePrice', kde= True)\n",
    "sns.boxplot (ax= ax[1], data=train, x='SalePrice', linewidth= 1, fliersize=3, width=0.5)\n",
    "ax[0].axvline(x=train['SalePrice'].mean(), ymax= 1, color= 'red',linestyle='dotted', linewidth=2)\n",
    "ax[0].axvline(x=train['SalePrice'].median(), ymax= 1, color= 'black',linestyle='dotted', linewidth=2)\n"
   ]
  },
  {
   "cell_type": "code",
   "execution_count": 30,
   "id": "2650be0c",
   "metadata": {},
   "outputs": [],
   "source": [
    "# # It shows that it has outlier on the right-end, hence we need to remove 1% from total data\n",
    "# df = train\n",
    "\n",
    "# q = df['SalePrice'].quantile(0.99)\n",
    "# df = df[df['SalePrice']<q]\n",
    "# df = df.reset_index(drop= True)\n",
    "\n",
    "# train.shape[0]-df.shape[0] # Remove 15 data on right-end"
   ]
  },
  {
   "cell_type": "code",
   "execution_count": 31,
   "id": "794d9ae8",
   "metadata": {},
   "outputs": [],
   "source": [
    "df = train\n",
    "log_saleprice= np.log(df['SalePrice'])\n",
    "df['log_saleprice']= log_saleprice"
   ]
  },
  {
   "cell_type": "code",
   "execution_count": 32,
   "id": "1eda8ea4",
   "metadata": {},
   "outputs": [
    {
     "data": {
      "text/plain": [
       "<matplotlib.lines.Line2D at 0x1d775f25880>"
      ]
     },
     "execution_count": 32,
     "metadata": {},
     "output_type": "execute_result"
    },
    {
     "data": {
      "image/png": "[encoded data removed]",
      "text/plain": [
       "<Figure size 1080x216 with 2 Axes>"
      ]
     },
     "metadata": {},
     "output_type": "display_data"
    }
   ],
   "source": [
    "fig, ax = plt.subplots(1, 2, figsize= (15,3))\n",
    "\n",
    "sns.histplot(ax=ax[0], data=df, x='log_saleprice', kde= True)\n",
    "sns.boxplot (ax= ax[1], data=df, x='log_saleprice', linewidth= 1, fliersize=3, width=0.5)\n",
    "ax[0].axvline(x=df['log_saleprice'].mean(), ymax= 1, color= 'red',linestyle='dotted', linewidth=2)\n",
    "ax[0].axvline(x=df['log_saleprice'].median(), ymax= 1, color= 'black',linestyle='dotted', linewidth=2)"
   ]
  },
  {
   "cell_type": "markdown",
   "id": "758bb8a3",
   "metadata": {},
   "source": [
    "### Descriptive Data"
   ]
  },
  {
   "cell_type": "raw",
   "id": "fba01c8a",
   "metadata": {},
   "source": [
    "# Separating the numerical and categorical data"
   ]
  },
  {
   "cell_type": "code",
   "execution_count": 33,
   "id": "0515aa95",
   "metadata": {},
   "outputs": [
    {
     "data": {
      "text/html": [
       "<div>\n",
       "<style scoped>\n",
       "    .dataframe tbody tr th:only-of-type {\n",
       "        vertical-align: middle;\n",
       "    }\n",
       "\n",
       "    .dataframe tbody tr th {\n",
       "        vertical-align: top;\n",
       "    }\n",
       "\n",
       "    .dataframe thead th {\n",
       "        text-align: right;\n",
       "    }\n",
       "</style>\n",
       "<table border=\"1\" class=\"dataframe\">\n",
       "  <thead>\n",
       "    <tr style=\"text-align: right;\">\n",
       "      <th></th>\n",
       "      <th>Id</th>\n",
       "      <th>MSSubClass</th>\n",
       "      <th>MSZoning</th>\n",
       "      <th>LotFrontage</th>\n",
       "      <th>LotArea</th>\n",
       "      <th>Street</th>\n",
       "      <th>Alley</th>\n",
       "      <th>LotShape</th>\n",
       "      <th>LandContour</th>\n",
       "      <th>Utilities</th>\n",
       "      <th>...</th>\n",
       "      <th>PoolQC</th>\n",
       "      <th>Fence</th>\n",
       "      <th>MiscFeature</th>\n",
       "      <th>MiscVal</th>\n",
       "      <th>MoSold</th>\n",
       "      <th>YrSold</th>\n",
       "      <th>SaleType</th>\n",
       "      <th>SaleCondition</th>\n",
       "      <th>SalePrice</th>\n",
       "      <th>log_saleprice</th>\n",
       "    </tr>\n",
       "  </thead>\n",
       "  <tbody>\n",
       "    <tr>\n",
       "      <th>count</th>\n",
       "      <td>1460.000000</td>\n",
       "      <td>1460.000000</td>\n",
       "      <td>1460</td>\n",
       "      <td>1201.000000</td>\n",
       "      <td>1460.000000</td>\n",
       "      <td>1460</td>\n",
       "      <td>91</td>\n",
       "      <td>1460</td>\n",
       "      <td>1460</td>\n",
       "      <td>1460</td>\n",
       "      <td>...</td>\n",
       "      <td>7</td>\n",
       "      <td>281</td>\n",
       "      <td>54</td>\n",
       "      <td>1460.000000</td>\n",
       "      <td>1460.000000</td>\n",
       "      <td>1460.000000</td>\n",
       "      <td>1460</td>\n",
       "      <td>1460</td>\n",
       "      <td>1460.000000</td>\n",
       "      <td>1460.000000</td>\n",
       "    </tr>\n",
       "    <tr>\n",
       "      <th>unique</th>\n",
       "      <td>NaN</td>\n",
       "      <td>NaN</td>\n",
       "      <td>5</td>\n",
       "      <td>NaN</td>\n",
       "      <td>NaN</td>\n",
       "      <td>2</td>\n",
       "      <td>2</td>\n",
       "      <td>4</td>\n",
       "      <td>4</td>\n",
       "      <td>2</td>\n",
       "      <td>...</td>\n",
       "      <td>3</td>\n",
       "      <td>4</td>\n",
       "      <td>4</td>\n",
       "      <td>NaN</td>\n",
       "      <td>NaN</td>\n",
       "      <td>NaN</td>\n",
       "      <td>9</td>\n",
       "      <td>6</td>\n",
       "      <td>NaN</td>\n",
       "      <td>NaN</td>\n",
       "    </tr>\n",
       "    <tr>\n",
       "      <th>top</th>\n",
       "      <td>NaN</td>\n",
       "      <td>NaN</td>\n",
       "      <td>RL</td>\n",
       "      <td>NaN</td>\n",
       "      <td>NaN</td>\n",
       "      <td>Pave</td>\n",
       "      <td>Grvl</td>\n",
       "      <td>Reg</td>\n",
       "      <td>Lvl</td>\n",
       "      <td>AllPub</td>\n",
       "      <td>...</td>\n",
       "      <td>Gd</td>\n",
       "      <td>MnPrv</td>\n",
       "      <td>Shed</td>\n",
       "      <td>NaN</td>\n",
       "      <td>NaN</td>\n",
       "      <td>NaN</td>\n",
       "      <td>WD</td>\n",
       "      <td>Normal</td>\n",
       "      <td>NaN</td>\n",
       "      <td>NaN</td>\n",
       "    </tr>\n",
       "    <tr>\n",
       "      <th>freq</th>\n",
       "      <td>NaN</td>\n",
       "      <td>NaN</td>\n",
       "      <td>1151</td>\n",
       "      <td>NaN</td>\n",
       "      <td>NaN</td>\n",
       "      <td>1454</td>\n",
       "      <td>50</td>\n",
       "      <td>925</td>\n",
       "      <td>1311</td>\n",
       "      <td>1459</td>\n",
       "      <td>...</td>\n",
       "      <td>3</td>\n",
       "      <td>157</td>\n",
       "      <td>49</td>\n",
       "      <td>NaN</td>\n",
       "      <td>NaN</td>\n",
       "      <td>NaN</td>\n",
       "      <td>1267</td>\n",
       "      <td>1198</td>\n",
       "      <td>NaN</td>\n",
       "      <td>NaN</td>\n",
       "    </tr>\n",
       "    <tr>\n",
       "      <th>mean</th>\n",
       "      <td>730.500000</td>\n",
       "      <td>56.897260</td>\n",
       "      <td>NaN</td>\n",
       "      <td>70.049958</td>\n",
       "      <td>10516.828082</td>\n",
       "      <td>NaN</td>\n",
       "      <td>NaN</td>\n",
       "      <td>NaN</td>\n",
       "      <td>NaN</td>\n",
       "      <td>NaN</td>\n",
       "      <td>...</td>\n",
       "      <td>NaN</td>\n",
       "      <td>NaN</td>\n",
       "      <td>NaN</td>\n",
       "      <td>43.489041</td>\n",
       "      <td>6.321918</td>\n",
       "      <td>2007.815753</td>\n",
       "      <td>NaN</td>\n",
       "      <td>NaN</td>\n",
       "      <td>180921.195890</td>\n",
       "      <td>12.024051</td>\n",
       "    </tr>\n",
       "    <tr>\n",
       "      <th>std</th>\n",
       "      <td>421.610009</td>\n",
       "      <td>42.300571</td>\n",
       "      <td>NaN</td>\n",
       "      <td>24.284752</td>\n",
       "      <td>9981.264932</td>\n",
       "      <td>NaN</td>\n",
       "      <td>NaN</td>\n",
       "      <td>NaN</td>\n",
       "      <td>NaN</td>\n",
       "      <td>NaN</td>\n",
       "      <td>...</td>\n",
       "      <td>NaN</td>\n",
       "      <td>NaN</td>\n",
       "      <td>NaN</td>\n",
       "      <td>496.123024</td>\n",
       "      <td>2.703626</td>\n",
       "      <td>1.328095</td>\n",
       "      <td>NaN</td>\n",
       "      <td>NaN</td>\n",
       "      <td>79442.502883</td>\n",
       "      <td>0.399452</td>\n",
       "    </tr>\n",
       "    <tr>\n",
       "      <th>min</th>\n",
       "      <td>1.000000</td>\n",
       "      <td>20.000000</td>\n",
       "      <td>NaN</td>\n",
       "      <td>21.000000</td>\n",
       "      <td>1300.000000</td>\n",
       "      <td>NaN</td>\n",
       "      <td>NaN</td>\n",
       "      <td>NaN</td>\n",
       "      <td>NaN</td>\n",
       "      <td>NaN</td>\n",
       "      <td>...</td>\n",
       "      <td>NaN</td>\n",
       "      <td>NaN</td>\n",
       "      <td>NaN</td>\n",
       "      <td>0.000000</td>\n",
       "      <td>1.000000</td>\n",
       "      <td>2006.000000</td>\n",
       "      <td>NaN</td>\n",
       "      <td>NaN</td>\n",
       "      <td>34900.000000</td>\n",
       "      <td>10.460242</td>\n",
       "    </tr>\n",
       "    <tr>\n",
       "      <th>25%</th>\n",
       "      <td>365.750000</td>\n",
       "      <td>20.000000</td>\n",
       "      <td>NaN</td>\n",
       "      <td>59.000000</td>\n",
       "      <td>7553.500000</td>\n",
       "      <td>NaN</td>\n",
       "      <td>NaN</td>\n",
       "      <td>NaN</td>\n",
       "      <td>NaN</td>\n",
       "      <td>NaN</td>\n",
       "      <td>...</td>\n",
       "      <td>NaN</td>\n",
       "      <td>NaN</td>\n",
       "      <td>NaN</td>\n",
       "      <td>0.000000</td>\n",
       "      <td>5.000000</td>\n",
       "      <td>2007.000000</td>\n",
       "      <td>NaN</td>\n",
       "      <td>NaN</td>\n",
       "      <td>129975.000000</td>\n",
       "      <td>11.775097</td>\n",
       "    </tr>\n",
       "    <tr>\n",
       "      <th>50%</th>\n",
       "      <td>730.500000</td>\n",
       "      <td>50.000000</td>\n",
       "      <td>NaN</td>\n",
       "      <td>69.000000</td>\n",
       "      <td>9478.500000</td>\n",
       "      <td>NaN</td>\n",
       "      <td>NaN</td>\n",
       "      <td>NaN</td>\n",
       "      <td>NaN</td>\n",
       "      <td>NaN</td>\n",
       "      <td>...</td>\n",
       "      <td>NaN</td>\n",
       "      <td>NaN</td>\n",
       "      <td>NaN</td>\n",
       "      <td>0.000000</td>\n",
       "      <td>6.000000</td>\n",
       "      <td>2008.000000</td>\n",
       "      <td>NaN</td>\n",
       "      <td>NaN</td>\n",
       "      <td>163000.000000</td>\n",
       "      <td>12.001505</td>\n",
       "    </tr>\n",
       "    <tr>\n",
       "      <th>75%</th>\n",
       "      <td>1095.250000</td>\n",
       "      <td>70.000000</td>\n",
       "      <td>NaN</td>\n",
       "      <td>80.000000</td>\n",
       "      <td>11601.500000</td>\n",
       "      <td>NaN</td>\n",
       "      <td>NaN</td>\n",
       "      <td>NaN</td>\n",
       "      <td>NaN</td>\n",
       "      <td>NaN</td>\n",
       "      <td>...</td>\n",
       "      <td>NaN</td>\n",
       "      <td>NaN</td>\n",
       "      <td>NaN</td>\n",
       "      <td>0.000000</td>\n",
       "      <td>8.000000</td>\n",
       "      <td>2009.000000</td>\n",
       "      <td>NaN</td>\n",
       "      <td>NaN</td>\n",
       "      <td>214000.000000</td>\n",
       "      <td>12.273731</td>\n",
       "    </tr>\n",
       "    <tr>\n",
       "      <th>max</th>\n",
       "      <td>1460.000000</td>\n",
       "      <td>190.000000</td>\n",
       "      <td>NaN</td>\n",
       "      <td>313.000000</td>\n",
       "      <td>215245.000000</td>\n",
       "      <td>NaN</td>\n",
       "      <td>NaN</td>\n",
       "      <td>NaN</td>\n",
       "      <td>NaN</td>\n",
       "      <td>NaN</td>\n",
       "      <td>...</td>\n",
       "      <td>NaN</td>\n",
       "      <td>NaN</td>\n",
       "      <td>NaN</td>\n",
       "      <td>15500.000000</td>\n",
       "      <td>12.000000</td>\n",
       "      <td>2010.000000</td>\n",
       "      <td>NaN</td>\n",
       "      <td>NaN</td>\n",
       "      <td>755000.000000</td>\n",
       "      <td>13.534473</td>\n",
       "    </tr>\n",
       "  </tbody>\n",
       "</table>\n",
       "<p>11 rows × 82 columns</p>\n",
       "</div>"
      ],
      "text/plain": [
       "                 Id   MSSubClass MSZoning  LotFrontage        LotArea Street  \\\n",
       "count   1460.000000  1460.000000     1460  1201.000000    1460.000000   1460   \n",
       "unique          NaN          NaN        5          NaN            NaN      2   \n",
       "top             NaN          NaN       RL          NaN            NaN   Pave   \n",
       "freq            NaN          NaN     1151          NaN            NaN   1454   \n",
       "mean     730.500000    56.897260      NaN    70.049958   10516.828082    NaN   \n",
       "std      421.610009    42.300571      NaN    24.284752    9981.264932    NaN   \n",
       "min        1.000000    20.000000      NaN    21.000000    1300.000000    NaN   \n",
       "25%      365.750000    20.000000      NaN    59.000000    7553.500000    NaN   \n",
       "50%      730.500000    50.000000      NaN    69.000000    9478.500000    NaN   \n",
       "75%     1095.250000    70.000000      NaN    80.000000   11601.500000    NaN   \n",
       "max     1460.000000   190.000000      NaN   313.000000  215245.000000    NaN   \n",
       "\n",
       "       Alley LotShape LandContour Utilities  ... PoolQC  Fence MiscFeature  \\\n",
       "count     91     1460        1460      1460  ...      7    281          54   \n",
       "unique     2        4           4         2  ...      3      4           4   \n",
       "top     Grvl      Reg         Lvl    AllPub  ...     Gd  MnPrv        Shed   \n",
       "freq      50      925        1311      1459  ...      3    157          49   \n",
       "mean     NaN      NaN         NaN       NaN  ...    NaN    NaN         NaN   \n",
       "std      NaN      NaN         NaN       NaN  ...    NaN    NaN         NaN   \n",
       "min      NaN      NaN         NaN       NaN  ...    NaN    NaN         NaN   \n",
       "25%      NaN      NaN         NaN       NaN  ...    NaN    NaN         NaN   \n",
       "50%      NaN      NaN         NaN       NaN  ...    NaN    NaN         NaN   \n",
       "75%      NaN      NaN         NaN       NaN  ...    NaN    NaN         NaN   \n",
       "max      NaN      NaN         NaN       NaN  ...    NaN    NaN         NaN   \n",
       "\n",
       "             MiscVal       MoSold       YrSold SaleType  SaleCondition  \\\n",
       "count    1460.000000  1460.000000  1460.000000     1460           1460   \n",
       "unique           NaN          NaN          NaN        9              6   \n",
       "top              NaN          NaN          NaN       WD         Normal   \n",
       "freq             NaN          NaN          NaN     1267           1198   \n",
       "mean       43.489041     6.321918  2007.815753      NaN            NaN   \n",
       "std       496.123024     2.703626     1.328095      NaN            NaN   \n",
       "min         0.000000     1.000000  2006.000000      NaN            NaN   \n",
       "25%         0.000000     5.000000  2007.000000      NaN            NaN   \n",
       "50%         0.000000     6.000000  2008.000000      NaN            NaN   \n",
       "75%         0.000000     8.000000  2009.000000      NaN            NaN   \n",
       "max     15500.000000    12.000000  2010.000000      NaN            NaN   \n",
       "\n",
       "            SalePrice  log_saleprice  \n",
       "count     1460.000000    1460.000000  \n",
       "unique            NaN            NaN  \n",
       "top               NaN            NaN  \n",
       "freq              NaN            NaN  \n",
       "mean    180921.195890      12.024051  \n",
       "std      79442.502883       0.399452  \n",
       "min      34900.000000      10.460242  \n",
       "25%     129975.000000      11.775097  \n",
       "50%     163000.000000      12.001505  \n",
       "75%     214000.000000      12.273731  \n",
       "max     755000.000000      13.534473  \n",
       "\n",
       "[11 rows x 82 columns]"
      ]
     },
     "execution_count": 33,
     "metadata": {},
     "output_type": "execute_result"
    }
   ],
   "source": [
    "df.describe(include='all')"
   ]
  },
  {
   "cell_type": "code",
   "execution_count": 34,
   "id": "e0c257d3",
   "metadata": {},
   "outputs": [
    {
     "data": {
      "text/html": [
       "<div>\n",
       "<style scoped>\n",
       "    .dataframe tbody tr th:only-of-type {\n",
       "        vertical-align: middle;\n",
       "    }\n",
       "\n",
       "    .dataframe tbody tr th {\n",
       "        vertical-align: top;\n",
       "    }\n",
       "\n",
       "    .dataframe thead th {\n",
       "        text-align: right;\n",
       "    }\n",
       "</style>\n",
       "<table border=\"1\" class=\"dataframe\">\n",
       "  <thead>\n",
       "    <tr style=\"text-align: right;\">\n",
       "      <th></th>\n",
       "      <th>Categorical</th>\n",
       "      <th>Numerical</th>\n",
       "    </tr>\n",
       "  </thead>\n",
       "  <tbody>\n",
       "    <tr>\n",
       "      <th>0</th>\n",
       "      <td>MSZoning</td>\n",
       "      <td>Id</td>\n",
       "    </tr>\n",
       "    <tr>\n",
       "      <th>1</th>\n",
       "      <td>Street</td>\n",
       "      <td>MSSubClass</td>\n",
       "    </tr>\n",
       "    <tr>\n",
       "      <th>2</th>\n",
       "      <td>Alley</td>\n",
       "      <td>LotFrontage</td>\n",
       "    </tr>\n",
       "    <tr>\n",
       "      <th>3</th>\n",
       "      <td>LotShape</td>\n",
       "      <td>LotArea</td>\n",
       "    </tr>\n",
       "    <tr>\n",
       "      <th>4</th>\n",
       "      <td>LandContour</td>\n",
       "      <td>OverallQual</td>\n",
       "    </tr>\n",
       "  </tbody>\n",
       "</table>\n",
       "</div>"
      ],
      "text/plain": [
       "   Categorical    Numerical\n",
       "0     MSZoning           Id\n",
       "1       Street   MSSubClass\n",
       "2        Alley  LotFrontage\n",
       "3     LotShape      LotArea\n",
       "4  LandContour  OverallQual"
      ]
     },
     "execution_count": 34,
     "metadata": {},
     "output_type": "execute_result"
    }
   ],
   "source": [
    "unique_value = pd.DataFrame(df.describe(include='all').loc['mean',:])\n",
    "df_categorical= unique_value.loc[unique_value['mean'].isnull()].index\n",
    "df_numerical= unique_value.loc[unique_value['mean'].notnull()].index\n",
    "\n",
    "df_categorical= pd.DataFrame(df_categorical,columns=['Categorical'])\n",
    "df_numerical= pd.DataFrame(df_numerical,columns=['Numerical'])\n",
    "\n",
    "df_type= df_categorical.join(df_numerical)\n",
    "df_type.head()"
   ]
  },
  {
   "cell_type": "raw",
   "id": "564a18d6",
   "metadata": {},
   "source": [
    "# Calculating the missing value"
   ]
  },
  {
   "cell_type": "code",
   "execution_count": 35,
   "id": "eb6079d6",
   "metadata": {},
   "outputs": [
    {
     "data": {
      "text/html": [
       "<div>\n",
       "<style scoped>\n",
       "    .dataframe tbody tr th:only-of-type {\n",
       "        vertical-align: middle;\n",
       "    }\n",
       "\n",
       "    .dataframe tbody tr th {\n",
       "        vertical-align: top;\n",
       "    }\n",
       "\n",
       "    .dataframe thead th {\n",
       "        text-align: right;\n",
       "    }\n",
       "</style>\n",
       "<table border=\"1\" class=\"dataframe\">\n",
       "  <thead>\n",
       "    <tr style=\"text-align: right;\">\n",
       "      <th></th>\n",
       "      <th>Feature</th>\n",
       "      <th>null_value</th>\n",
       "    </tr>\n",
       "  </thead>\n",
       "  <tbody>\n",
       "    <tr>\n",
       "      <th>0</th>\n",
       "      <td>LotFrontage</td>\n",
       "      <td>259</td>\n",
       "    </tr>\n",
       "    <tr>\n",
       "      <th>1</th>\n",
       "      <td>Alley</td>\n",
       "      <td>1369</td>\n",
       "    </tr>\n",
       "    <tr>\n",
       "      <th>2</th>\n",
       "      <td>MasVnrType</td>\n",
       "      <td>8</td>\n",
       "    </tr>\n",
       "    <tr>\n",
       "      <th>3</th>\n",
       "      <td>MasVnrArea</td>\n",
       "      <td>8</td>\n",
       "    </tr>\n",
       "    <tr>\n",
       "      <th>4</th>\n",
       "      <td>BsmtQual</td>\n",
       "      <td>37</td>\n",
       "    </tr>\n",
       "  </tbody>\n",
       "</table>\n",
       "</div>"
      ],
      "text/plain": [
       "       Feature  null_value\n",
       "0  LotFrontage         259\n",
       "1        Alley        1369\n",
       "2   MasVnrType           8\n",
       "3   MasVnrArea           8\n",
       "4     BsmtQual          37"
      ]
     },
     "execution_count": 35,
     "metadata": {},
     "output_type": "execute_result"
    }
   ],
   "source": [
    "sum_null= pd.DataFrame(df.isnull().sum())\n",
    "sum_null.columns =['null_value']\n",
    "\n",
    "sum_null= sum_null[sum_null['null_value']>0]\n",
    "sum_null = sum_null.reset_index()\n",
    "sum_null.columns = ['Feature','null_value']\n",
    "\n",
    "sum_null.head()"
   ]
  },
  {
   "cell_type": "code",
   "execution_count": 36,
   "id": "a324ea21",
   "metadata": {},
   "outputs": [
    {
     "data": {
      "text/html": [
       "<div>\n",
       "<style scoped>\n",
       "    .dataframe tbody tr th:only-of-type {\n",
       "        vertical-align: middle;\n",
       "    }\n",
       "\n",
       "    .dataframe tbody tr th {\n",
       "        vertical-align: top;\n",
       "    }\n",
       "\n",
       "    .dataframe thead th {\n",
       "        text-align: right;\n",
       "    }\n",
       "</style>\n",
       "<table border=\"1\" class=\"dataframe\">\n",
       "  <thead>\n",
       "    <tr style=\"text-align: right;\">\n",
       "      <th></th>\n",
       "      <th>Feature</th>\n",
       "      <th>null_value</th>\n",
       "      <th>Type</th>\n",
       "    </tr>\n",
       "  </thead>\n",
       "  <tbody>\n",
       "    <tr>\n",
       "      <th>0</th>\n",
       "      <td>LotFrontage</td>\n",
       "      <td>259</td>\n",
       "      <td>Num</td>\n",
       "    </tr>\n",
       "    <tr>\n",
       "      <th>1</th>\n",
       "      <td>Alley</td>\n",
       "      <td>1369</td>\n",
       "      <td>Cat</td>\n",
       "    </tr>\n",
       "    <tr>\n",
       "      <th>2</th>\n",
       "      <td>MasVnrType</td>\n",
       "      <td>8</td>\n",
       "      <td>Cat</td>\n",
       "    </tr>\n",
       "    <tr>\n",
       "      <th>3</th>\n",
       "      <td>MasVnrArea</td>\n",
       "      <td>8</td>\n",
       "      <td>Num</td>\n",
       "    </tr>\n",
       "    <tr>\n",
       "      <th>4</th>\n",
       "      <td>BsmtQual</td>\n",
       "      <td>37</td>\n",
       "      <td>Cat</td>\n",
       "    </tr>\n",
       "  </tbody>\n",
       "</table>\n",
       "</div>"
      ],
      "text/plain": [
       "       Feature  null_value Type\n",
       "0  LotFrontage         259  Num\n",
       "1        Alley        1369  Cat\n",
       "2   MasVnrType           8  Cat\n",
       "3   MasVnrArea           8  Num\n",
       "4     BsmtQual          37  Cat"
      ]
     },
     "execution_count": 36,
     "metadata": {},
     "output_type": "execute_result"
    }
   ],
   "source": [
    "null_list = []\n",
    "\n",
    "for i in sum_null['Feature'].values :\n",
    "    if i in df_type['Categorical'].values :\n",
    "        null_list.append('Cat')\n",
    "    if i in df_type['Numerical'].values :\n",
    "        null_list.append('Num')\n",
    "        \n",
    "null_list = pd.DataFrame(null_list)\n",
    "null_list.columns = ['Type']\n",
    "sum_null= sum_null.join(null_list)\n",
    "\n",
    "sum_null.head()"
   ]
  },
  {
   "cell_type": "raw",
   "id": "0b093507",
   "metadata": {},
   "source": [
    "# Dealing with missing value"
   ]
  },
  {
   "cell_type": "code",
   "execution_count": 37,
   "id": "8a1e42e7",
   "metadata": {
    "scrolled": true
   },
   "outputs": [],
   "source": [
    "sum_null_num= sum_null[sum_null['Type'] == 'Num']\n",
    "sum_null_cat= sum_null[sum_null['Type'] == 'Cat']"
   ]
  },
  {
   "cell_type": "code",
   "execution_count": 38,
   "id": "3986a113",
   "metadata": {
    "scrolled": true
   },
   "outputs": [
    {
     "data": {
      "image/png": "[encoded data removed]",
      "text/plain": [
       "<Figure size 1296x648 with 6 Axes>"
      ]
     },
     "metadata": {},
     "output_type": "display_data"
    }
   ],
   "source": [
    "# For missing value in Numerical Category\n",
    "fig, ax = plt.subplots(2, 3, figsize= (18,9))\n",
    "\n",
    "for i,j in list(enumerate(sum_null_num['Feature'])):\n",
    "    sns.histplot(ax=ax[0,i], data=df, x=j, kde= True)\n",
    "    sns.boxplot (data=df, x=j, linewidth= 1, ax= ax[1,i],showmeans= True, fliersize=3, width=0.5)\n",
    "    ax[0,i].axvline(x=df[j].mean(), ymax= 1, color= 'red',linestyle='dotted', linewidth=2)\n",
    "    ax[0,i].axvline(x=df[j].median(), ymax= 1, color= 'black',linestyle='dotted', linewidth=2)\n",
    "    \n",
    "    ax[0,i].set_xlabel(None)\n",
    "    ax[1,i].set_xlabel(j, fontsize = 13)\n",
    "    ax[0,0].set_ylabel('Count', fontsize = 13)\n",
    "    ax[0,1].set_ylabel(None)\n",
    "    ax[0,2].set_ylabel(None)\n"
   ]
  },
  {
   "cell_type": "raw",
   "id": "c7c47410",
   "metadata": {},
   "source": [
    "# For LotFrontage and GarageYrBlt, replace null value with it's mean\n",
    "# For MasVnrArea, replace null value with 0 \n",
    "\n",
    "# For Alley, replace null value with 'NA'\n",
    "# For MasVnrType, replace null value with 'None'\n",
    "\n",
    "# For BsmtExposure, replace null value with 'NA', except for Id 949, replace it with 'No'\n",
    "# For BsmtFinType1, replace null value with 'NA'\n",
    "# For BsmtFinType2, replace null value with 'NA', except for Id 333, replace null value with 'Unf'\n",
    "# For BsmtQual, replace null value with 'NA'\n",
    "# For BsmtCond, replace null value with 'NA'\n",
    "\n",
    "# For Electrical, replace null value with 'SBrkr'\n",
    "# For FireplaceQu, replace null value with 'NA'\n",
    "\n",
    "# For GarageType, replace null value with 'NA' \t\n",
    "# For GarageYrBlt, replace null value with 'NA'\n",
    "# For GarageFinish, replace null value with 'NA'\n",
    "# For GarageQual, replace null value with 'NA'\n",
    "# For GarageCond, replace null value with 'NA'\n",
    "\n",
    "# For PoolQC, replace null value with 'NA'\n",
    "# For Fence, replace null value with 'NA'\n",
    "# For MiscFeature, replace null value with 'NA'\n",
    "\n"
   ]
  },
  {
   "cell_type": "code",
   "execution_count": 39,
   "id": "c94f8853",
   "metadata": {},
   "outputs": [],
   "source": [
    "# Dealing with missing value\n",
    "df['LotFrontage'] = df['LotFrontage'].replace(np.nan, np.mean(df['LotFrontage']))\n",
    "df['MasVnrArea'] = df['MasVnrArea'].replace(np.nan, 0)\n",
    "df['Alley'] = df['Alley'].replace(np.nan, 'NA')\n",
    "df['MasVnrType'] = df['MasVnrType'].replace(np.nan, 'None')\n",
    "df['BsmtExposure'] = np.where(df['Id'] == 949, 'No', df['BsmtExposure'])\n",
    "df['BsmtExposure'] = df['BsmtExposure'].replace(np.nan, 'NA')\n",
    "df['BsmtFinType2'] = np.where(df['Id'] == 333, 'Unf', df['BsmtFinType2'])\n",
    "df['BsmtFinType2'] = df['BsmtFinType2'].replace(np.nan, 'NA')\n",
    "df['BsmtFinType1'] = df['BsmtFinType1'].replace(np.nan, 'NA')\n",
    "df['BsmtQual'] = df['BsmtQual'].replace(np.nan, 'NA')\n",
    "df['BsmtCond'] = df['BsmtCond'].replace(np.nan, 'NA')\n",
    "df['Electrical'] = df['Electrical'].replace(np.nan, 'SBrkr')\n",
    "df['FireplaceQu'] = df['FireplaceQu'].replace(np.nan, 'NA')\n",
    "df['GarageType'] = df['GarageType'].replace(np.nan, 'NA')\n",
    "df['GarageYrBlt'] = df['GarageYrBlt'].replace(np.nan, np.mean(df['GarageYrBlt']))\n",
    "df['GarageFinish'] = df['GarageFinish'].replace(np.nan, 'NA')\n",
    "df['GarageQual'] = df['GarageQual'].replace(np.nan, 'NA')\n",
    "df['GarageCond'] = df['GarageCond'].replace(np.nan, 'NA')\n",
    "df['PoolQC'] = df['PoolQC'].replace(np.nan, 'NA')\n",
    "df['Fence'] = df['Fence'].replace(np.nan, 'NA')\n",
    "df['MiscFeature'] = df['MiscFeature'].replace(np.nan, 'NA')\n"
   ]
  },
  {
   "cell_type": "raw",
   "id": "a4ab30a4",
   "metadata": {},
   "source": [
    "# Numerical data"
   ]
  },
  {
   "cell_type": "code",
   "execution_count": 40,
   "id": "4969fcea",
   "metadata": {},
   "outputs": [
    {
     "data": {
      "text/plain": [
       "Index(['MSSubClass', 'LotFrontage', 'LotArea', 'OverallQual', 'OverallCond',\n",
       "       'YearBuilt', 'YearRemodAdd', 'MasVnrArea', 'BsmtFinSF1', 'BsmtFinSF2',\n",
       "       'BsmtUnfSF', 'TotalBsmtSF', '1stFlrSF', '2ndFlrSF', 'LowQualFinSF',\n",
       "       'GrLivArea', 'BsmtFullBath', 'BsmtHalfBath', 'FullBath', 'HalfBath',\n",
       "       'BedroomAbvGr', 'KitchenAbvGr', 'TotRmsAbvGrd', 'Fireplaces',\n",
       "       'GarageYrBlt', 'GarageCars', 'GarageArea', 'WoodDeckSF', 'OpenPorchSF',\n",
       "       'EnclosedPorch', '3SsnPorch', 'ScreenPorch', 'PoolArea', 'MiscVal',\n",
       "       'MoSold', 'YrSold'],\n",
       "      dtype='object')"
      ]
     },
     "execution_count": 40,
     "metadata": {},
     "output_type": "execute_result"
    }
   ],
   "source": [
    "df_num = df[list(df_type['Numerical'][1:37])]\n",
    "df_num.columns"
   ]
  },
  {
   "cell_type": "raw",
   "id": "c8f57e38",
   "metadata": {},
   "source": [
    "# Categorical data"
   ]
  },
  {
   "cell_type": "code",
   "execution_count": 41,
   "id": "01734296",
   "metadata": {},
   "outputs": [],
   "source": [
    "# Column type checker\n",
    "\n",
    "# for i in list(df_cat.columns):\n",
    "#     bbb = infer_dtype(df_cat[i])\n",
    "#     print(i, bbb)\n",
    "   "
   ]
  },
  {
   "cell_type": "code",
   "execution_count": 42,
   "id": "31fe8f29",
   "metadata": {},
   "outputs": [],
   "source": [
    "ohe = OneHotEncoder(handle_unknown='ignore', sparse = False)"
   ]
  },
  {
   "cell_type": "code",
   "execution_count": 43,
   "id": "835fed15",
   "metadata": {},
   "outputs": [],
   "source": [
    "cat_ohe = ohe.fit_transform(df[list(df_type['Categorical'])])"
   ]
  },
  {
   "cell_type": "code",
   "execution_count": 44,
   "id": "23dee13d",
   "metadata": {},
   "outputs": [],
   "source": [
    "categorical_cols = df_type['Categorical']"
   ]
  },
  {
   "cell_type": "code",
   "execution_count": 45,
   "id": "e0dffa4a",
   "metadata": {},
   "outputs": [
    {
     "name": "stderr",
     "output_type": "stream",
     "text": [
      "C:\\Users\\Wahyudi\\anaconda3\\lib\\site-packages\\sklearn\\utils\\deprecation.py:87: FutureWarning: Function get_feature_names is deprecated; get_feature_names is deprecated in 1.0 and will be removed in 1.2. Please use get_feature_names_out instead.\n",
      "  warnings.warn(msg, category=FutureWarning)\n"
     ]
    },
    {
     "data": {
      "text/html": [
       "<div>\n",
       "<style scoped>\n",
       "    .dataframe tbody tr th:only-of-type {\n",
       "        vertical-align: middle;\n",
       "    }\n",
       "\n",
       "    .dataframe tbody tr th {\n",
       "        vertical-align: top;\n",
       "    }\n",
       "\n",
       "    .dataframe thead th {\n",
       "        text-align: right;\n",
       "    }\n",
       "</style>\n",
       "<table border=\"1\" class=\"dataframe\">\n",
       "  <thead>\n",
       "    <tr style=\"text-align: right;\">\n",
       "      <th></th>\n",
       "      <th>MSZoning_C (all)</th>\n",
       "      <th>MSZoning_FV</th>\n",
       "      <th>MSZoning_RH</th>\n",
       "      <th>MSZoning_RL</th>\n",
       "      <th>MSZoning_RM</th>\n",
       "      <th>Street_Grvl</th>\n",
       "      <th>Street_Pave</th>\n",
       "      <th>Alley_Grvl</th>\n",
       "      <th>Alley_NA</th>\n",
       "      <th>Alley_Pave</th>\n",
       "      <th>...</th>\n",
       "      <th>SaleType_ConLw</th>\n",
       "      <th>SaleType_New</th>\n",
       "      <th>SaleType_Oth</th>\n",
       "      <th>SaleType_WD</th>\n",
       "      <th>SaleCondition_Abnorml</th>\n",
       "      <th>SaleCondition_AdjLand</th>\n",
       "      <th>SaleCondition_Alloca</th>\n",
       "      <th>SaleCondition_Family</th>\n",
       "      <th>SaleCondition_Normal</th>\n",
       "      <th>SaleCondition_Partial</th>\n",
       "    </tr>\n",
       "  </thead>\n",
       "  <tbody>\n",
       "    <tr>\n",
       "      <th>0</th>\n",
       "      <td>0.0</td>\n",
       "      <td>0.0</td>\n",
       "      <td>0.0</td>\n",
       "      <td>1.0</td>\n",
       "      <td>0.0</td>\n",
       "      <td>0.0</td>\n",
       "      <td>1.0</td>\n",
       "      <td>0.0</td>\n",
       "      <td>1.0</td>\n",
       "      <td>0.0</td>\n",
       "      <td>...</td>\n",
       "      <td>0.0</td>\n",
       "      <td>0.0</td>\n",
       "      <td>0.0</td>\n",
       "      <td>1.0</td>\n",
       "      <td>0.0</td>\n",
       "      <td>0.0</td>\n",
       "      <td>0.0</td>\n",
       "      <td>0.0</td>\n",
       "      <td>1.0</td>\n",
       "      <td>0.0</td>\n",
       "    </tr>\n",
       "    <tr>\n",
       "      <th>1</th>\n",
       "      <td>0.0</td>\n",
       "      <td>0.0</td>\n",
       "      <td>0.0</td>\n",
       "      <td>1.0</td>\n",
       "      <td>0.0</td>\n",
       "      <td>0.0</td>\n",
       "      <td>1.0</td>\n",
       "      <td>0.0</td>\n",
       "      <td>1.0</td>\n",
       "      <td>0.0</td>\n",
       "      <td>...</td>\n",
       "      <td>0.0</td>\n",
       "      <td>0.0</td>\n",
       "      <td>0.0</td>\n",
       "      <td>1.0</td>\n",
       "      <td>0.0</td>\n",
       "      <td>0.0</td>\n",
       "      <td>0.0</td>\n",
       "      <td>0.0</td>\n",
       "      <td>1.0</td>\n",
       "      <td>0.0</td>\n",
       "    </tr>\n",
       "    <tr>\n",
       "      <th>2</th>\n",
       "      <td>0.0</td>\n",
       "      <td>0.0</td>\n",
       "      <td>0.0</td>\n",
       "      <td>1.0</td>\n",
       "      <td>0.0</td>\n",
       "      <td>0.0</td>\n",
       "      <td>1.0</td>\n",
       "      <td>0.0</td>\n",
       "      <td>1.0</td>\n",
       "      <td>0.0</td>\n",
       "      <td>...</td>\n",
       "      <td>0.0</td>\n",
       "      <td>0.0</td>\n",
       "      <td>0.0</td>\n",
       "      <td>1.0</td>\n",
       "      <td>0.0</td>\n",
       "      <td>0.0</td>\n",
       "      <td>0.0</td>\n",
       "      <td>0.0</td>\n",
       "      <td>1.0</td>\n",
       "      <td>0.0</td>\n",
       "    </tr>\n",
       "    <tr>\n",
       "      <th>3</th>\n",
       "      <td>0.0</td>\n",
       "      <td>0.0</td>\n",
       "      <td>0.0</td>\n",
       "      <td>1.0</td>\n",
       "      <td>0.0</td>\n",
       "      <td>0.0</td>\n",
       "      <td>1.0</td>\n",
       "      <td>0.0</td>\n",
       "      <td>1.0</td>\n",
       "      <td>0.0</td>\n",
       "      <td>...</td>\n",
       "      <td>0.0</td>\n",
       "      <td>0.0</td>\n",
       "      <td>0.0</td>\n",
       "      <td>1.0</td>\n",
       "      <td>1.0</td>\n",
       "      <td>0.0</td>\n",
       "      <td>0.0</td>\n",
       "      <td>0.0</td>\n",
       "      <td>0.0</td>\n",
       "      <td>0.0</td>\n",
       "    </tr>\n",
       "    <tr>\n",
       "      <th>4</th>\n",
       "      <td>0.0</td>\n",
       "      <td>0.0</td>\n",
       "      <td>0.0</td>\n",
       "      <td>1.0</td>\n",
       "      <td>0.0</td>\n",
       "      <td>0.0</td>\n",
       "      <td>1.0</td>\n",
       "      <td>0.0</td>\n",
       "      <td>1.0</td>\n",
       "      <td>0.0</td>\n",
       "      <td>...</td>\n",
       "      <td>0.0</td>\n",
       "      <td>0.0</td>\n",
       "      <td>0.0</td>\n",
       "      <td>1.0</td>\n",
       "      <td>0.0</td>\n",
       "      <td>0.0</td>\n",
       "      <td>0.0</td>\n",
       "      <td>0.0</td>\n",
       "      <td>1.0</td>\n",
       "      <td>0.0</td>\n",
       "    </tr>\n",
       "    <tr>\n",
       "      <th>...</th>\n",
       "      <td>...</td>\n",
       "      <td>...</td>\n",
       "      <td>...</td>\n",
       "      <td>...</td>\n",
       "      <td>...</td>\n",
       "      <td>...</td>\n",
       "      <td>...</td>\n",
       "      <td>...</td>\n",
       "      <td>...</td>\n",
       "      <td>...</td>\n",
       "      <td>...</td>\n",
       "      <td>...</td>\n",
       "      <td>...</td>\n",
       "      <td>...</td>\n",
       "      <td>...</td>\n",
       "      <td>...</td>\n",
       "      <td>...</td>\n",
       "      <td>...</td>\n",
       "      <td>...</td>\n",
       "      <td>...</td>\n",
       "      <td>...</td>\n",
       "    </tr>\n",
       "    <tr>\n",
       "      <th>1455</th>\n",
       "      <td>0.0</td>\n",
       "      <td>0.0</td>\n",
       "      <td>0.0</td>\n",
       "      <td>1.0</td>\n",
       "      <td>0.0</td>\n",
       "      <td>0.0</td>\n",
       "      <td>1.0</td>\n",
       "      <td>0.0</td>\n",
       "      <td>1.0</td>\n",
       "      <td>0.0</td>\n",
       "      <td>...</td>\n",
       "      <td>0.0</td>\n",
       "      <td>0.0</td>\n",
       "      <td>0.0</td>\n",
       "      <td>1.0</td>\n",
       "      <td>0.0</td>\n",
       "      <td>0.0</td>\n",
       "      <td>0.0</td>\n",
       "      <td>0.0</td>\n",
       "      <td>1.0</td>\n",
       "      <td>0.0</td>\n",
       "    </tr>\n",
       "    <tr>\n",
       "      <th>1456</th>\n",
       "      <td>0.0</td>\n",
       "      <td>0.0</td>\n",
       "      <td>0.0</td>\n",
       "      <td>1.0</td>\n",
       "      <td>0.0</td>\n",
       "      <td>0.0</td>\n",
       "      <td>1.0</td>\n",
       "      <td>0.0</td>\n",
       "      <td>1.0</td>\n",
       "      <td>0.0</td>\n",
       "      <td>...</td>\n",
       "      <td>0.0</td>\n",
       "      <td>0.0</td>\n",
       "      <td>0.0</td>\n",
       "      <td>1.0</td>\n",
       "      <td>0.0</td>\n",
       "      <td>0.0</td>\n",
       "      <td>0.0</td>\n",
       "      <td>0.0</td>\n",
       "      <td>1.0</td>\n",
       "      <td>0.0</td>\n",
       "    </tr>\n",
       "    <tr>\n",
       "      <th>1457</th>\n",
       "      <td>0.0</td>\n",
       "      <td>0.0</td>\n",
       "      <td>0.0</td>\n",
       "      <td>1.0</td>\n",
       "      <td>0.0</td>\n",
       "      <td>0.0</td>\n",
       "      <td>1.0</td>\n",
       "      <td>0.0</td>\n",
       "      <td>1.0</td>\n",
       "      <td>0.0</td>\n",
       "      <td>...</td>\n",
       "      <td>0.0</td>\n",
       "      <td>0.0</td>\n",
       "      <td>0.0</td>\n",
       "      <td>1.0</td>\n",
       "      <td>0.0</td>\n",
       "      <td>0.0</td>\n",
       "      <td>0.0</td>\n",
       "      <td>0.0</td>\n",
       "      <td>1.0</td>\n",
       "      <td>0.0</td>\n",
       "    </tr>\n",
       "    <tr>\n",
       "      <th>1458</th>\n",
       "      <td>0.0</td>\n",
       "      <td>0.0</td>\n",
       "      <td>0.0</td>\n",
       "      <td>1.0</td>\n",
       "      <td>0.0</td>\n",
       "      <td>0.0</td>\n",
       "      <td>1.0</td>\n",
       "      <td>0.0</td>\n",
       "      <td>1.0</td>\n",
       "      <td>0.0</td>\n",
       "      <td>...</td>\n",
       "      <td>0.0</td>\n",
       "      <td>0.0</td>\n",
       "      <td>0.0</td>\n",
       "      <td>1.0</td>\n",
       "      <td>0.0</td>\n",
       "      <td>0.0</td>\n",
       "      <td>0.0</td>\n",
       "      <td>0.0</td>\n",
       "      <td>1.0</td>\n",
       "      <td>0.0</td>\n",
       "    </tr>\n",
       "    <tr>\n",
       "      <th>1459</th>\n",
       "      <td>0.0</td>\n",
       "      <td>0.0</td>\n",
       "      <td>0.0</td>\n",
       "      <td>1.0</td>\n",
       "      <td>0.0</td>\n",
       "      <td>0.0</td>\n",
       "      <td>1.0</td>\n",
       "      <td>0.0</td>\n",
       "      <td>1.0</td>\n",
       "      <td>0.0</td>\n",
       "      <td>...</td>\n",
       "      <td>0.0</td>\n",
       "      <td>0.0</td>\n",
       "      <td>0.0</td>\n",
       "      <td>1.0</td>\n",
       "      <td>0.0</td>\n",
       "      <td>0.0</td>\n",
       "      <td>0.0</td>\n",
       "      <td>0.0</td>\n",
       "      <td>1.0</td>\n",
       "      <td>0.0</td>\n",
       "    </tr>\n",
       "  </tbody>\n",
       "</table>\n",
       "<p>1460 rows × 266 columns</p>\n",
       "</div>"
      ],
      "text/plain": [
       "      MSZoning_C (all)  MSZoning_FV  MSZoning_RH  MSZoning_RL  MSZoning_RM  \\\n",
       "0                  0.0          0.0          0.0          1.0          0.0   \n",
       "1                  0.0          0.0          0.0          1.0          0.0   \n",
       "2                  0.0          0.0          0.0          1.0          0.0   \n",
       "3                  0.0          0.0          0.0          1.0          0.0   \n",
       "4                  0.0          0.0          0.0          1.0          0.0   \n",
       "...                ...          ...          ...          ...          ...   \n",
       "1455               0.0          0.0          0.0          1.0          0.0   \n",
       "1456               0.0          0.0          0.0          1.0          0.0   \n",
       "1457               0.0          0.0          0.0          1.0          0.0   \n",
       "1458               0.0          0.0          0.0          1.0          0.0   \n",
       "1459               0.0          0.0          0.0          1.0          0.0   \n",
       "\n",
       "      Street_Grvl  Street_Pave  Alley_Grvl  Alley_NA  Alley_Pave  ...  \\\n",
       "0             0.0          1.0         0.0       1.0         0.0  ...   \n",
       "1             0.0          1.0         0.0       1.0         0.0  ...   \n",
       "2             0.0          1.0         0.0       1.0         0.0  ...   \n",
       "3             0.0          1.0         0.0       1.0         0.0  ...   \n",
       "4             0.0          1.0         0.0       1.0         0.0  ...   \n",
       "...           ...          ...         ...       ...         ...  ...   \n",
       "1455          0.0          1.0         0.0       1.0         0.0  ...   \n",
       "1456          0.0          1.0         0.0       1.0         0.0  ...   \n",
       "1457          0.0          1.0         0.0       1.0         0.0  ...   \n",
       "1458          0.0          1.0         0.0       1.0         0.0  ...   \n",
       "1459          0.0          1.0         0.0       1.0         0.0  ...   \n",
       "\n",
       "      SaleType_ConLw  SaleType_New  SaleType_Oth  SaleType_WD  \\\n",
       "0                0.0           0.0           0.0          1.0   \n",
       "1                0.0           0.0           0.0          1.0   \n",
       "2                0.0           0.0           0.0          1.0   \n",
       "3                0.0           0.0           0.0          1.0   \n",
       "4                0.0           0.0           0.0          1.0   \n",
       "...              ...           ...           ...          ...   \n",
       "1455             0.0           0.0           0.0          1.0   \n",
       "1456             0.0           0.0           0.0          1.0   \n",
       "1457             0.0           0.0           0.0          1.0   \n",
       "1458             0.0           0.0           0.0          1.0   \n",
       "1459             0.0           0.0           0.0          1.0   \n",
       "\n",
       "      SaleCondition_Abnorml  SaleCondition_AdjLand  SaleCondition_Alloca  \\\n",
       "0                       0.0                    0.0                   0.0   \n",
       "1                       0.0                    0.0                   0.0   \n",
       "2                       0.0                    0.0                   0.0   \n",
       "3                       1.0                    0.0                   0.0   \n",
       "4                       0.0                    0.0                   0.0   \n",
       "...                     ...                    ...                   ...   \n",
       "1455                    0.0                    0.0                   0.0   \n",
       "1456                    0.0                    0.0                   0.0   \n",
       "1457                    0.0                    0.0                   0.0   \n",
       "1458                    0.0                    0.0                   0.0   \n",
       "1459                    0.0                    0.0                   0.0   \n",
       "\n",
       "      SaleCondition_Family  SaleCondition_Normal  SaleCondition_Partial  \n",
       "0                      0.0                   1.0                    0.0  \n",
       "1                      0.0                   1.0                    0.0  \n",
       "2                      0.0                   1.0                    0.0  \n",
       "3                      0.0                   0.0                    0.0  \n",
       "4                      0.0                   1.0                    0.0  \n",
       "...                    ...                   ...                    ...  \n",
       "1455                   0.0                   1.0                    0.0  \n",
       "1456                   0.0                   1.0                    0.0  \n",
       "1457                   0.0                   1.0                    0.0  \n",
       "1458                   0.0                   1.0                    0.0  \n",
       "1459                   0.0                   1.0                    0.0  \n",
       "\n",
       "[1460 rows x 266 columns]"
      ]
     },
     "execution_count": 45,
     "metadata": {},
     "output_type": "execute_result"
    }
   ],
   "source": [
    "df_cat_ohe = pd.DataFrame(cat_ohe,columns= ohe.get_feature_names(input_features = categorical_cols))\n",
    "df_cat_ohe"
   ]
  },
  {
   "cell_type": "code",
   "execution_count": 46,
   "id": "10461561",
   "metadata": {
    "scrolled": true
   },
   "outputs": [],
   "source": [
    "df_prep = df_num.join(df_cat_ohe)\n",
    "df_preprocessed_log = df_prep.join(df['log_saleprice'])\n",
    "df_preprocessed =  df_prep.join(df['SalePrice'])"
   ]
  },
  {
   "cell_type": "markdown",
   "id": "05c7748b",
   "metadata": {},
   "source": [
    "### Training"
   ]
  },
  {
   "cell_type": "code",
   "execution_count": 159,
   "id": "361d3f7f",
   "metadata": {},
   "outputs": [],
   "source": [
    "# This is for fit the model to predict log_saleprice\n",
    "# X_log = df_preprocessed_log.iloc[:,:-1]\n",
    "X = df_preprocessed.iloc[:,:-1]\n",
    "\n",
    "y_log = df_preprocessed_log.iloc[:,-1]\n",
    "y = df_preprocessed.iloc[:,-1]\n",
    "\n",
    "X_train, X_test, y_train, y_test = train_test_split(X, y, random_state= 365, test_size = 0.2) \n",
    "# X_train_log, X_test_log, y_train_log, y_test_log = train_test_split(X, y, random_state= 365, test_size = 0.2) \n",
    "\n",
    "X_train_log, X_test_log, y_train_log, y_test_log = train_test_split(X, y_log, random_state= 365, test_size = 0.2) \n",
    "# if this is for categorical value we can use argument stratify = y"
   ]
  },
  {
   "cell_type": "code",
   "execution_count": 200,
   "id": "1a1a13ab",
   "metadata": {},
   "outputs": [],
   "source": [
    "# For log_saleprice as Target\n",
    "xgbr_log = xgb.XGBRegressor(base_score =0.5, \n",
    "                        verbosity=0,\n",
    "                        booster= 'gbtree',\n",
    "                        gamma= 0,\n",
    "                        max_depth= 6,\n",
    "                        min_child_weight = 1,\n",
    "                        reg_lambda = 1,\n",
    "                        learning_rate= 0.2 \n",
    "                       )\n",
    "\n",
    "# For Saleprice as Target\n",
    "xgbr = xgb.XGBRegressor(base_score =0.5, \n",
    "                        verbosity=0,\n",
    "                        booster= 'gbtree',\n",
    "                        gamma= 0,\n",
    "                        max_depth= 6,\n",
    "                        min_child_weight = 1,\n",
    "                        reg_lambda = 1,\n",
    "                        learning_rate= 0.2 \n",
    "                       )"
   ]
  },
  {
   "cell_type": "code",
   "execution_count": 201,
   "id": "03eaef65",
   "metadata": {
    "scrolled": true
   },
   "outputs": [
    {
     "name": "stderr",
     "output_type": "stream",
     "text": [
      "C:\\Users\\Wahyudi\\anaconda3\\lib\\site-packages\\xgboost\\sklearn.py:793: UserWarning: `eval_metric` in `fit` method is deprecated for better compatibility with scikit-learn, use `eval_metric` in constructor or`set_params` instead.\n",
      "  warnings.warn(\n",
      "C:\\Users\\Wahyudi\\anaconda3\\lib\\site-packages\\xgboost\\sklearn.py:793: UserWarning: `early_stopping_rounds` in `fit` method is deprecated for better compatibility with scikit-learn, use `early_stopping_rounds` in constructor or`set_params` instead.\n",
      "  warnings.warn(\n",
      "C:\\Users\\Wahyudi\\anaconda3\\lib\\site-packages\\xgboost\\sklearn.py:793: UserWarning: `eval_metric` in `fit` method is deprecated for better compatibility with scikit-learn, use `eval_metric` in constructor or`set_params` instead.\n",
      "  warnings.warn(\n",
      "C:\\Users\\Wahyudi\\anaconda3\\lib\\site-packages\\xgboost\\sklearn.py:793: UserWarning: `early_stopping_rounds` in `fit` method is deprecated for better compatibility with scikit-learn, use `early_stopping_rounds` in constructor or`set_params` instead.\n",
      "  warnings.warn(\n"
     ]
    },
    {
     "name": "stdout",
     "output_type": "stream",
     "text": [
      "0.9979165941167103\n",
      "0.9976018864138702\n"
     ]
    }
   ],
   "source": [
    "# define the datasets to evaluate each iteration\n",
    "# for log_saleprice as Target\n",
    "evalset = [(X_train_log, y_train_log), (X_test_log,y_test_log)]\n",
    "xgbr_log.fit(X_train,y_train_log,\n",
    "         verbose= False,\n",
    "         early_stopping_rounds = 10,\n",
    "         eval_metric  = 'rmse',\n",
    "         eval_set = evalset)\n",
    "train_score_log = xgbr_log.score(X_train_log, y_train_log) # measuring how good the model predicting the training data\n",
    "\n",
    "# for SalePrice as Target\n",
    "evalset = [(X_train, y_train), (X_test,y_test)]\n",
    "xgbr.fit(X_train,y_train,\n",
    "         verbose= False,\n",
    "         early_stopping_rounds = 10,\n",
    "         eval_metric  = 'rmse',\n",
    "         eval_set = evalset)\n",
    "train_score = xgbr.score(X_train, y_train) # measuring how good the model predicting the training data\n",
    "\n",
    "print(train_score_log)\n",
    "print(train_score)"
   ]
  },
  {
   "cell_type": "markdown",
   "id": "41bded46",
   "metadata": {},
   "source": [
    "***"
   ]
  },
  {
   "cell_type": "code",
   "execution_count": 202,
   "id": "98644b34",
   "metadata": {},
   "outputs": [],
   "source": [
    "def plot_learning_curves(estimator, X, y, title, y_lim):\n",
    "    train_sizes, train_scores, validation_scores = learning_curve(\n",
    "        estimator, X, y, cv = 10, scoring = 'neg_mean_squared_error')\n",
    "    train_scores_mean = np.sqrt(-train_scores).mean(axis = 1)\n",
    "    train_scores_std = np.sqrt(-train_scores).std(axis=1)\n",
    "    validation_scores_mean = np.sqrt(-validation_scores).mean(axis=1)\n",
    "    validation_scores_std = np.sqrt(-validation_scores).std(axis=1)\n",
    "\n",
    "    plt.style.use('seaborn')   \n",
    "    plt.plot(train_sizes, train_scores_mean, \"r-+\", linewidth=2,label = 'Training error')\n",
    "    plt.plot(train_sizes, validation_scores_mean, \"b-\", linewidth=3, label = 'Validation error')\n",
    "    plt.fill_between(\n",
    "        train_sizes,\n",
    "        train_scores_mean - train_scores_std,\n",
    "        train_scores_mean + train_scores_std,\n",
    "        alpha=0.1,\n",
    "        color=\"r\",\n",
    "    )\n",
    "    plt.fill_between(\n",
    "        train_sizes,\n",
    "        validation_scores_mean - validation_scores_std,\n",
    "        validation_scores_mean + validation_scores_std,\n",
    "        alpha=0.1,\n",
    "        color=\"b\",\n",
    "    )\n",
    "\n",
    "    plt.ylabel('RMSE', fontsize = 14)\n",
    "    plt.xlabel('Training set size', fontsize = 14)\n",
    "    title = 'Learning curves for ' + title + ' as target'\n",
    "    plt.title(title, fontsize = 18, y = 1.03)\n",
    "    plt.legend(loc=\"best\")\n",
    "    plt.ylim(0,y_lim)"
   ]
  },
  {
   "cell_type": "code",
   "execution_count": 203,
   "id": "c74b5ca0",
   "metadata": {},
   "outputs": [
    {
     "data": {
      "image/png": "[encoded data removed]",
      "text/plain": [
       "<Figure size 1296x432 with 2 Axes>"
      ]
     },
     "metadata": {},
     "output_type": "display_data"
    }
   ],
   "source": [
    "### Plotting the two learning curves ###\n",
    "plt.figure(figsize = (18,6))\n",
    "estimator =[xgbr_log,xgbr]\n",
    "titles = ['Log_SalePrice','SalePrice']\n",
    "\n",
    "# train_sizes = [1, 10, 20, 50, 100, 200, 500, 856]\n",
    "\n",
    "for model, X,y, title,i,ylim in [(xgbr_log, X_train_log, y_train_log, titles[0], 1, 0.25), \n",
    "                                 (xgbr, X_train, y_train, titles[1],2, 50000)]:\n",
    "    plt.subplot(1,2,i)\n",
    "    plot_learning_curves(model, X, y, title, ylim)\n"
   ]
  },
  {
   "cell_type": "code",
   "execution_count": 204,
   "id": "87d5b039",
   "metadata": {},
   "outputs": [
    {
     "name": "stdout",
     "output_type": "stream",
     "text": [
      "1.0176883642886307\n",
      "1.1492747554500846\n"
     ]
    }
   ],
   "source": [
    "train_sizes, train_scores, validation_scores = learning_curve(\n",
    "        xgbr_log, X_train_log, y_train_log, cv = 10, scoring = 'neg_mean_squared_error')\n",
    "\n",
    "train_scores_mean = np.sqrt(-train_scores).mean(axis = 1)\n",
    "train_scores_std = np.sqrt(-train_scores).std(axis=1)\n",
    "validation_scores_mean = np.sqrt(-validation_scores).mean(axis=1)\n",
    "validation_scores_std = np.sqrt(-validation_scores).std(axis=1)\n",
    "\n",
    "print(np.exp(train_scores_mean)[-1])\n",
    "print(np.exp(validation_scores_mean)[-1])"
   ]
  },
  {
   "cell_type": "markdown",
   "id": "8817eb09",
   "metadata": {},
   "source": [
    "* **In the left plot, errors has huge gap but both training and validation error is converging, On the last training set the difference between training and validation error is about 1.15/1.02 ~ 1.13. This means that the validation error is 13% bigger than training error.  It is an overfitting model. Three ways to improve current model:**\n",
    "\n",
    " * **Add more training set. The two curves would continue to get closer for the validation curve doesn't plateau at the maximum training set size.**\n",
    "\n",
    " * **Increase the regularization. This should decrease the variance and increase the bias.** \n",
    "\n",
    " * **Reduce the numbers of features in the training data. This should decrease the variance and increase the bias.**\n",
    "\n",
    "* **In the right plot,errors has huge gap and both training and validation error is not converging,  the RMSE on the training data is much lower than that in the left plot. It is an overfitting model.**\n",
    "\n",
    "* **This means that the polynomial model performs much better on the training data than on the validation data. It is an overfitting model. Three ways to improve current model:**\n",
    "\n"
   ]
  },
  {
   "cell_type": "code",
   "execution_count": null,
   "id": "ebc5499f",
   "metadata": {},
   "outputs": [],
   "source": [
    "### Plotting the two learning curves ###\n",
    "plt.figure(figsize = (18,6))\n",
    "# train_sizes = [1, 10, 20, 50, 100, 200, 500, 856]\n",
    "# titles = ['linear regression','polynomial regression']\n",
    "for X, title,i in [(X_train,titles[0], 1), (X_poly2_train,titles[1],2)]:\n",
    "    plt.subplot(1,2,i)\n",
    "    plot_learning_curves(lin_reg, X, target, train_sizes, 5, title)"
   ]
  },
  {
   "cell_type": "markdown",
   "id": "ba893ea3",
   "metadata": {},
   "source": [
    "***\n",
    "***\n",
    "***"
   ]
  },
  {
   "cell_type": "code",
   "execution_count": 169,
   "id": "6d767ba5",
   "metadata": {},
   "outputs": [
    {
     "data": {
      "text/plain": [
       "(0.0, 50000.0)"
      ]
     },
     "execution_count": 169,
     "metadata": {},
     "output_type": "execute_result"
    },
    {
     "data": {
      "image/png": "[encoded data removed]",
      "text/plain": [
       "<Figure size 432x288 with 1 Axes>"
      ]
     },
     "metadata": {},
     "output_type": "display_data"
    }
   ],
   "source": [
    "train_sizes, train_scores, validation_scores = learning_curve(\n",
    "        xgbr, X_train, y_train, cv = 10, scoring = 'neg_mean_squared_error')\n",
    "\n",
    "train_scores_mean = np.sqrt(-train_scores).mean(axis = 1)\n",
    "train_scores_std = np.sqrt(-train_scores).std(axis=1)\n",
    "validation_scores_mean = np.sqrt(-validation_scores).mean(axis=1)\n",
    "validation_scores_std = np.sqrt(-validation_scores).std(axis=1)\n",
    "\n",
    "# plt.style.use('seaborn')   \n",
    "plt.plot(train_sizes, train_scores_mean, \"r-+\", linewidth=2,label = 'Training error')\n",
    "plt.plot(train_sizes, validation_scores_mean, \"b-\", linewidth=3, label = 'Validation error')\n",
    "plt.fill_between(\n",
    "    train_sizes,\n",
    "    train_scores_mean - train_scores_std,\n",
    "    train_scores_mean + train_scores_std,\n",
    "    alpha=0.1,\n",
    "    color=\"r\",\n",
    ")\n",
    "plt.fill_between(\n",
    "    train_sizes,\n",
    "    validation_scores_mean - validation_scores_std,\n",
    "    validation_scores_mean + validation_scores_std,\n",
    "    alpha=0.1,\n",
    "    color=\"b\",\n",
    ")\n",
    "\n",
    "plt.ylabel('RMSE', fontsize = 14)\n",
    "plt.xlabel('Training set size', fontsize = 14)\n",
    "# title = 'Learning curves for a ' + name + ' model'\n",
    "# plt.title(title, fontsize = 18, y = 1.03)\n",
    "plt.legend(loc=\"best\")\n",
    "plt.ylim(0,50000)"
   ]
  },
  {
   "cell_type": "code",
   "execution_count": 101,
   "id": "a564a00c",
   "metadata": {},
   "outputs": [
    {
     "name": "stdout",
     "output_type": "stream",
     "text": [
      "[ 418.57740851 2071.66179803 3591.28568011 4446.77779587 5009.93960516]\n",
      "[  0.80818358  98.81532735  95.448951   236.8456295  195.69092761]\n",
      "[35369.92636923 37150.27299897 32936.87040258 30307.22680365\n",
      " 31408.65145996]\n",
      "[8568.28953737 8109.9684464  9851.94385271 8708.95192101 9979.15314484]\n"
     ]
    }
   ],
   "source": [
    "print(train_scores_mean)\n",
    "print(train_scores_std)\n",
    "print(validation_scores_mean)\n",
    "print(validation_scores_std)"
   ]
  },
  {
   "cell_type": "markdown",
   "id": "6306268f",
   "metadata": {},
   "source": [
    "***"
   ]
  },
  {
   "cell_type": "code",
   "execution_count": 51,
   "id": "85e2cb9c",
   "metadata": {},
   "outputs": [
    {
     "name": "stdout",
     "output_type": "stream",
     "text": [
      "0.877164642448597\n",
      "0.8134715627637531\n"
     ]
    }
   ],
   "source": [
    "cv_score_log = cross_val_score(xgbr_log, X_train_log, y_train_log, cv= 10)\n",
    "cv_score = cross_val_score(xgbr, X_train, y_train, cv= 10)\n",
    "\n",
    "print(cv_score_log.mean())\n",
    "print(cv_score.mean())"
   ]
  },
  {
   "cell_type": "code",
   "execution_count": null,
   "id": "0c26a51b",
   "metadata": {},
   "outputs": [],
   "source": []
  },
  {
   "cell_type": "markdown",
   "id": "ebe4cede",
   "metadata": {},
   "source": [
    "### Testing"
   ]
  },
  {
   "cell_type": "code",
   "execution_count": 52,
   "id": "3bf70f4f",
   "metadata": {},
   "outputs": [],
   "source": [
    "y_pred_log = xgbr_log.predict(X_test_log)\n",
    "y_pred = xgbr.predict(X_test)"
   ]
  },
  {
   "cell_type": "code",
   "execution_count": 53,
   "id": "6e6cbbc3",
   "metadata": {},
   "outputs": [],
   "source": [
    "# test_score = xgbr_log.score(X_test, y_test) # this is the r2 score"
   ]
  },
  {
   "cell_type": "code",
   "execution_count": 155,
   "id": "d3d9f832",
   "metadata": {},
   "outputs": [
    {
     "data": {
      "text/plain": [
       "[Text(0, 0.5, 'RMSE'), Text(0, 0.5, 'RMSE')]"
      ]
     },
     "execution_count": 155,
     "metadata": {},
     "output_type": "execute_result"
    },
    {
     "data": {
      "image/png": "[encoded data removed]",
      "text/plain": [
       "<Figure size 1008x432 with 2 Axes>"
      ]
     },
     "metadata": {},
     "output_type": "display_data"
    }
   ],
   "source": [
    "fig, ax1 = plt.subplots(1,2,sharex='col', figsize= (14,6))\n",
    "\n",
    "results_log = xgbr_log.evals_result()\n",
    "results = xgbr.evals_result()\n",
    "\n",
    "ax1[0].plot(results_log['validation_0']['rmse'], label='train')\n",
    "ax1[0].plot(results_log['validation_1']['rmse'], label='test')\n",
    "ax1[0].legend()\n",
    "\n",
    "\n",
    "ax1[1].plot(results['validation_0']['rmse'], label='train')\n",
    "ax1[1].plot(results['validation_1']['rmse'], label='test')\n",
    "ax1[1].legend()\n",
    "\n",
    "plt.setp(ax1, xlabel='iteration')\n",
    "plt.setp(ax1, ylabel='RMSE')\n",
    "\n"
   ]
  },
  {
   "cell_type": "code",
   "execution_count": null,
   "id": "1dce2984",
   "metadata": {},
   "outputs": [],
   "source": [
    "mse_test_log = mean_squared_error(y_test_log, y_pred_log)\n",
    "rmse_test_log = np.sqrt(mse_test_log)\n",
    "print('RMSE log_saleprice :%.3f'% rmse_test_log)\n",
    "r2_test_log = r2_score(y_test_log, y_pred_log)\n",
    "print(\"R square log_saleprice: %.3f\"% r2_test_log)\n",
    "\n",
    "print('-' * 80)\n",
    "\n",
    "# mse_test_exp = mean_squared_error(y_test, y_pred)\n",
    "# rmse_test_exp = np.sqrt(mse_test)\n",
    "print('RMSE saleprice ($) :%.3f'% np.exp(rmse_test_log))\n",
    "r2_test_exp_log = r2_score(np.exp(y_test_log), np.exp(y_pred_log))\n",
    "print(\"R square saleprice: %.3f\"% r2_test_exp)\n"
   ]
  },
  {
   "cell_type": "code",
   "execution_count": null,
   "id": "a5733995",
   "metadata": {},
   "outputs": [],
   "source": [
    "mse_test = mean_squared_error(y_test, y_pred)\n",
    "rmse_test = np.sqrt(mse_test)\n",
    "print('RMSE log_saleprice :%.3f'% rmse_test)\n",
    "r2_test = r2_score(y_test, y_pred)\n",
    "print(\"R square log_saleprice: %.3f\"% r2_test)\n",
    "\n",
    "print('-' * 80)\n",
    "\n",
    "# mse_test_exp = mean_squared_error(y_test, y_pred)\n",
    "# rmse_test_exp = np.sqrt(mse_test)\n",
    "print('RMSE saleprice ($) :%.3f'% np.exp(rmse_test))\n",
    "r2_test_exp = r2_score((y_test), (y_pred))\n",
    "print(\"R square saleprice: %.3f\"% r2_test_exp)\n"
   ]
  },
  {
   "cell_type": "code",
   "execution_count": 75,
   "id": "815e5ed8",
   "metadata": {},
   "outputs": [
    {
     "ename": "ValueError",
     "evalue": "Found input variables with inconsistent numbers of samples: [1168, 1460]",
     "output_type": "error",
     "traceback": [
      "\u001b[1;31m---------------------------------------------------------------------------\u001b[0m",
      "\u001b[1;31mValueError\u001b[0m                                Traceback (most recent call last)",
      "Input \u001b[1;32mIn [75]\u001b[0m, in \u001b[0;36m<cell line: 1>\u001b[1;34m()\u001b[0m\n\u001b[1;32m----> 1\u001b[0m train_sizes, train_scores, validation_scores \u001b[38;5;241m=\u001b[39m \u001b[43mlearning_curve\u001b[49m\u001b[43m(\u001b[49m\n\u001b[0;32m      2\u001b[0m \u001b[43m       \u001b[49m\u001b[43mxgbr_log\u001b[49m\u001b[43m,\u001b[49m\u001b[43m \u001b[49m\u001b[43mX_train\u001b[49m\u001b[43m,\u001b[49m\u001b[43m \u001b[49m\u001b[43my_log\u001b[49m\u001b[43m,\u001b[49m\u001b[43m \u001b[49m\u001b[43mtrain_sizes\u001b[49m\u001b[43m \u001b[49m\u001b[38;5;241;43m=\u001b[39;49m\u001b[38;5;241;43m100\u001b[39;49m\u001b[43m,\u001b[49m\u001b[43m \u001b[49m\u001b[43mcv\u001b[49m\u001b[43m \u001b[49m\u001b[38;5;241;43m=\u001b[39;49m\u001b[43m \u001b[49m\u001b[38;5;241;43m5\u001b[39;49m\u001b[43m,\u001b[49m\u001b[43m \u001b[49m\u001b[43mscoring\u001b[49m\u001b[43m \u001b[49m\u001b[38;5;241;43m=\u001b[39;49m\u001b[43m \u001b[49m\u001b[38;5;124;43m'\u001b[39;49m\u001b[38;5;124;43mneg_mean_squared_error\u001b[39;49m\u001b[38;5;124;43m'\u001b[39;49m\u001b[43m)\u001b[49m\n",
      "File \u001b[1;32m~\\anaconda3\\lib\\site-packages\\sklearn\\model_selection\\_validation.py:1510\u001b[0m, in \u001b[0;36mlearning_curve\u001b[1;34m(estimator, X, y, groups, train_sizes, cv, scoring, exploit_incremental_learning, n_jobs, pre_dispatch, verbose, shuffle, random_state, error_score, return_times, fit_params)\u001b[0m\n\u001b[0;32m   1505\u001b[0m \u001b[38;5;28;01mif\u001b[39;00m exploit_incremental_learning \u001b[38;5;129;01mand\u001b[39;00m \u001b[38;5;129;01mnot\u001b[39;00m \u001b[38;5;28mhasattr\u001b[39m(estimator, \u001b[38;5;124m\"\u001b[39m\u001b[38;5;124mpartial_fit\u001b[39m\u001b[38;5;124m\"\u001b[39m):\n\u001b[0;32m   1506\u001b[0m     \u001b[38;5;28;01mraise\u001b[39;00m \u001b[38;5;167;01mValueError\u001b[39;00m(\n\u001b[0;32m   1507\u001b[0m         \u001b[38;5;124m\"\u001b[39m\u001b[38;5;124mAn estimator must support the partial_fit interface \u001b[39m\u001b[38;5;124m\"\u001b[39m\n\u001b[0;32m   1508\u001b[0m         \u001b[38;5;124m\"\u001b[39m\u001b[38;5;124mto exploit incremental learning\u001b[39m\u001b[38;5;124m\"\u001b[39m\n\u001b[0;32m   1509\u001b[0m     )\n\u001b[1;32m-> 1510\u001b[0m X, y, groups \u001b[38;5;241m=\u001b[39m \u001b[43mindexable\u001b[49m\u001b[43m(\u001b[49m\u001b[43mX\u001b[49m\u001b[43m,\u001b[49m\u001b[43m \u001b[49m\u001b[43my\u001b[49m\u001b[43m,\u001b[49m\u001b[43m \u001b[49m\u001b[43mgroups\u001b[49m\u001b[43m)\u001b[49m\n\u001b[0;32m   1512\u001b[0m cv \u001b[38;5;241m=\u001b[39m check_cv(cv, y, classifier\u001b[38;5;241m=\u001b[39mis_classifier(estimator))\n\u001b[0;32m   1513\u001b[0m \u001b[38;5;66;03m# Store it as list as we will be iterating over the list multiple times\u001b[39;00m\n",
      "File \u001b[1;32m~\\anaconda3\\lib\\site-packages\\sklearn\\utils\\validation.py:433\u001b[0m, in \u001b[0;36mindexable\u001b[1;34m(*iterables)\u001b[0m\n\u001b[0;32m    414\u001b[0m \u001b[38;5;124;03m\"\"\"Make arrays indexable for cross-validation.\u001b[39;00m\n\u001b[0;32m    415\u001b[0m \n\u001b[0;32m    416\u001b[0m \u001b[38;5;124;03mChecks consistent length, passes through None, and ensures that everything\u001b[39;00m\n\u001b[1;32m   (...)\u001b[0m\n\u001b[0;32m    429\u001b[0m \u001b[38;5;124;03m    sparse matrix, or dataframe) or `None`.\u001b[39;00m\n\u001b[0;32m    430\u001b[0m \u001b[38;5;124;03m\"\"\"\u001b[39;00m\n\u001b[0;32m    432\u001b[0m result \u001b[38;5;241m=\u001b[39m [_make_indexable(X) \u001b[38;5;28;01mfor\u001b[39;00m X \u001b[38;5;129;01min\u001b[39;00m iterables]\n\u001b[1;32m--> 433\u001b[0m \u001b[43mcheck_consistent_length\u001b[49m\u001b[43m(\u001b[49m\u001b[38;5;241;43m*\u001b[39;49m\u001b[43mresult\u001b[49m\u001b[43m)\u001b[49m\n\u001b[0;32m    434\u001b[0m \u001b[38;5;28;01mreturn\u001b[39;00m result\n",
      "File \u001b[1;32m~\\anaconda3\\lib\\site-packages\\sklearn\\utils\\validation.py:387\u001b[0m, in \u001b[0;36mcheck_consistent_length\u001b[1;34m(*arrays)\u001b[0m\n\u001b[0;32m    385\u001b[0m uniques \u001b[38;5;241m=\u001b[39m np\u001b[38;5;241m.\u001b[39munique(lengths)\n\u001b[0;32m    386\u001b[0m \u001b[38;5;28;01mif\u001b[39;00m \u001b[38;5;28mlen\u001b[39m(uniques) \u001b[38;5;241m>\u001b[39m \u001b[38;5;241m1\u001b[39m:\n\u001b[1;32m--> 387\u001b[0m     \u001b[38;5;28;01mraise\u001b[39;00m \u001b[38;5;167;01mValueError\u001b[39;00m(\n\u001b[0;32m    388\u001b[0m         \u001b[38;5;124m\"\u001b[39m\u001b[38;5;124mFound input variables with inconsistent numbers of samples: \u001b[39m\u001b[38;5;132;01m%r\u001b[39;00m\u001b[38;5;124m\"\u001b[39m\n\u001b[0;32m    389\u001b[0m         \u001b[38;5;241m%\u001b[39m [\u001b[38;5;28mint\u001b[39m(l) \u001b[38;5;28;01mfor\u001b[39;00m l \u001b[38;5;129;01min\u001b[39;00m lengths]\n\u001b[0;32m    390\u001b[0m     )\n",
      "\u001b[1;31mValueError\u001b[0m: Found input variables with inconsistent numbers of samples: [1168, 1460]"
     ]
    }
   ],
   "source": []
  },
  {
   "cell_type": "code",
   "execution_count": null,
   "id": "c8d72e9e",
   "metadata": {},
   "outputs": [],
   "source": [
    "def plot_learning_curves(estimator, X, y, train_sizes, cv, name):\n",
    "    train_sizes, train_scores, validation_scores = learning_curve(\n",
    "                        estimator, X, y, train_sizes =train_sizes, \n",
    "                        cv = cv, scoring= 'neg_mean_squared_error')\n",
    "    \n",
    "    train_scores_mean = np.sqrt(-train_scores).mean(axis = 1)\n",
    "    train_scores_std = np.sqrt(-train_scores).std(axis=1)\n",
    "    validation_scores_mean = np.sqrt(-validation_scores).mean(axis=1)\n",
    "    validation_scores_std = np.sqrt(-validation_scores).std(axis=1)\n",
    "\n",
    "    plt.style.use('seaborn')   \n",
    "    plt.plot(train_sizes, train_scores_mean, \"r-+\", linewidth=2,label = 'Training error')\n",
    "    plt.plot(train_sizes, validation_scores_mean, \"b-\", linewidth=3, label = 'Validation error')\n",
    "    plt.fill_between(\n",
    "        train_sizes,\n",
    "        train_scores_mean - train_scores_std,\n",
    "        train_scores_mean + train_scores_std,\n",
    "        alpha=0.1,\n",
    "        color=\"r\",\n",
    "    )\n",
    "    plt.fill_between(\n",
    "        train_sizes,\n",
    "        validation_scores_mean - validation_scores_std,\n",
    "        validation_scores_mean + validation_scores_std,\n",
    "        alpha=0.1,\n",
    "        color=\"b\",\n",
    "    )\n",
    "\n",
    "    plt.ylabel('RMSE', fontsize = 14)\n",
    "    plt.xlabel('Training set size', fontsize = 14)\n",
    "    title = 'Learning curves for a ' + name + ' model'\n",
    "    plt.title(title, fontsize = 18, y = 1.03)\n",
    "    plt.legend(loc=\"best\")\n",
    "    plt.ylim(0,12000)"
   ]
  },
  {
   "cell_type": "code",
   "execution_count": null,
   "id": "ed897d69",
   "metadata": {},
   "outputs": [],
   "source": [
    "learning_curve(\n",
    "        estimator, X_train, y_log, train_sizes =train_sizes, cv = cv, scoring = 'neg_mean_squared_error')"
   ]
  },
  {
   "cell_type": "markdown",
   "id": "8cdf79b6",
   "metadata": {},
   "source": [
    "### Residual check"
   ]
  },
  {
   "cell_type": "raw",
   "id": "4c42f0c6",
   "metadata": {},
   "source": [
    "We need to see the residual plot as error need to be randomized"
   ]
  },
  {
   "cell_type": "code",
   "execution_count": null,
   "id": "0ce2147d",
   "metadata": {},
   "outputs": [],
   "source": [
    "residual_test = y_test_log - y_pred_log\n",
    "\n",
    "# since the prediction we get is in the log form, we can revert it to its actual value\n",
    "residual_test_exp = np.exp(y_test) - np.exp(y_pred)\n",
    "\n",
    "# Converting the log_saleprice back into SalePrice\n",
    "plt.scatter(np.exp(y_test), np.exp(y_pred), alpha= 0.2)\n",
    "plt.title('Residual',size=13)\n",
    "plt.xlabel('y_test', size = 13)\n",
    "plt.ylabel('y_pred', size = 13)\n",
    "\n",
    "xpoints = ypoints = plt.xlim()\n",
    "plt.plot(xpoints, ypoints, color='k', lw=0.5, scalex=False, scaley=False)\n",
    "\n",
    "plt.show"
   ]
  },
  {
   "cell_type": "code",
   "execution_count": null,
   "id": "3d7651f0",
   "metadata": {},
   "outputs": [],
   "source": [
    "sns.histplot((residual_test_exp), kde= True)\n",
    "plt.title('Residual PDF',size=13)\n",
    "plt.xlabel('residual')"
   ]
  },
  {
   "cell_type": "code",
   "execution_count": null,
   "id": "b396f541",
   "metadata": {
    "scrolled": true
   },
   "outputs": [],
   "source": [
    "fig, ax = plt.subplots(1,1,sharex='col', sharey='row', figsize= (9,4))\n",
    "\n",
    "plt.scatter(x= X_test['LotArea'],y = residual_test_exp,alpha=0.2)\n",
    "plt.axhline(y=0, color= 'black', lw=0.5)\n",
    "plt.title('Residual vs LotArea',size=13)\n",
    "plt.xlabel('LotArea', fontdict=None, labelpad=None)\n",
    "plt.ylabel('Residual', fontdict=None, labelpad=None)\n",
    "\n",
    "fig.legend(loc=7)\n",
    "fig.tight_layout()\n",
    "fig.subplots_adjust(right=0.88)  \n",
    "\n",
    "plt.show()\n"
   ]
  },
  {
   "cell_type": "markdown",
   "id": "165126ed",
   "metadata": {},
   "source": [
    "***"
   ]
  },
  {
   "cell_type": "code",
   "execution_count": null,
   "id": "b06adbc4",
   "metadata": {},
   "outputs": [],
   "source": [
    "residual_test = y_test - y_pred\n",
    "\n",
    "# since the prediction we get is in the log form, we can revert it to its actual value\n",
    "residual_test_exp = np.exp(y_test) - np.exp(y_pred)\n",
    "\n",
    "# Converting the log_saleprice back into SalePrice\n",
    "plt.scatter(np.exp(y_test), np.exp(y_pred), alpha= 0.2)\n",
    "plt.title('Residual',size=13)\n",
    "plt.xlabel('y_test', size = 13)\n",
    "plt.ylabel('y_pred', size = 13)\n",
    "\n",
    "xpoints = ypoints = plt.xlim()\n",
    "plt.plot(xpoints, ypoints, color='k', lw=0.5, scalex=False, scaley=False)\n",
    "\n",
    "plt.show"
   ]
  },
  {
   "cell_type": "markdown",
   "id": "6662b21d",
   "metadata": {},
   "source": [
    "### Data Performance"
   ]
  },
  {
   "cell_type": "code",
   "execution_count": null,
   "id": "b2da46eb",
   "metadata": {},
   "outputs": [],
   "source": [
    "# Since we predict the logarthmic value, we need to find the exponential value to get the actual value\n",
    "df_pf = pd.DataFrame(np.exp(y_pred), columns =['Prediction'])\n",
    "df_pf['Target_(SalePrice)'] = np.exp(y_test.reset_index(drop=True))\n",
    "df_pf['Residual'] = df_pf['Target_(SalePrice)'] - df_pf['Prediction']\n",
    "df_pf['Difference%'] = df_pf['Residual']/df_pf['Target_(SalePrice)']*100\n",
    "\n",
    "df_pf.head(5)"
   ]
  },
  {
   "cell_type": "code",
   "execution_count": null,
   "id": "00976f51",
   "metadata": {},
   "outputs": [],
   "source": [
    "df_pf.describe()"
   ]
  },
  {
   "cell_type": "code",
   "execution_count": null,
   "id": "f1be0c6e",
   "metadata": {},
   "outputs": [],
   "source": [
    "pd.options.display.max_rows = 999\n",
    "pd.set_option('display.float_format', lambda x: '%.3f' % x)\n",
    "df_pf.sort_values(by = ['Difference%'])"
   ]
  },
  {
   "cell_type": "markdown",
   "id": "a4c9dba8",
   "metadata": {},
   "source": [
    "***\n",
    "### Test.csv\n",
    "***"
   ]
  },
  {
   "cell_type": "code",
   "execution_count": null,
   "id": "180c4af1",
   "metadata": {},
   "outputs": [],
   "source": [
    "test = pd.read_csv('test.csv')\n",
    "test.head()"
   ]
  },
  {
   "cell_type": "raw",
   "id": "67611564",
   "metadata": {},
   "source": [
    "# Separating the numerical and categorical data"
   ]
  },
  {
   "cell_type": "code",
   "execution_count": null,
   "id": "7c5a46c2",
   "metadata": {},
   "outputs": [],
   "source": [
    "df_test = test\n",
    "df_test.describe(include='all')"
   ]
  },
  {
   "cell_type": "code",
   "execution_count": null,
   "id": "00c840ca",
   "metadata": {},
   "outputs": [],
   "source": [
    "# Separating the numerical and categorical data\n",
    "unique_value_test = pd.DataFrame(df_test.describe(include='all').loc['mean',:])\n",
    "df_test_categorical= unique_value_test.loc[unique_value['mean'].isnull()].index\n",
    "df_test_numerical= unique_value_test.loc[unique_value['mean'].notnull()].index\n",
    "\n",
    "df_test_categorical= pd.DataFrame(df_test_categorical,columns=['Categorical'])\n",
    "df_test_numerical= pd.DataFrame(df_test_numerical,columns=['Numerical'])\n",
    "\n",
    "df_test_type= df_test_categorical.join(df_test_numerical)\n",
    "df_test_type.head()"
   ]
  },
  {
   "cell_type": "raw",
   "id": "5ff86c39",
   "metadata": {},
   "source": [
    "# Calculating the missing value"
   ]
  },
  {
   "cell_type": "code",
   "execution_count": null,
   "id": "1c21b291",
   "metadata": {},
   "outputs": [],
   "source": [
    "test_sum_null= pd.DataFrame(df_test.isnull().sum())\n",
    "test_sum_null.columns =['null_value']\n",
    "\n",
    "test_sum_null= test_sum_null[test_sum_null['null_value']>0]\n",
    "test_sum_null = test_sum_null.reset_index()\n",
    "test_sum_null.columns = ['Feature','null_value']\n",
    "\n",
    "test_sum_null.head()"
   ]
  },
  {
   "cell_type": "code",
   "execution_count": null,
   "id": "2347eaca",
   "metadata": {},
   "outputs": [],
   "source": [
    "test_null_list = []\n",
    "\n",
    "for i in test_sum_null['Feature'].values :\n",
    "    if i in df_test_type['Categorical'].values :\n",
    "        test_null_list.append('Cat')\n",
    "    if i in df_test_type['Numerical'].values :\n",
    "        test_null_list.append('Num')\n",
    "        \n",
    "test_null_list = pd.DataFrame(test_null_list)\n",
    "test_null_list.columns = ['Type']\n",
    "test_sum_null= test_sum_null.join(test_null_list)\n",
    "\n",
    "test_sum_null.head()"
   ]
  },
  {
   "cell_type": "raw",
   "id": "06550715",
   "metadata": {},
   "source": [
    "# Dealing with missing value"
   ]
  },
  {
   "cell_type": "code",
   "execution_count": null,
   "id": "4f6c7d08",
   "metadata": {
    "scrolled": true
   },
   "outputs": [],
   "source": [
    "sum_null_num"
   ]
  },
  {
   "cell_type": "code",
   "execution_count": null,
   "id": "44f3b4c9",
   "metadata": {
    "scrolled": true
   },
   "outputs": [],
   "source": [
    "test_sum_null_num= test_sum_null[test_sum_null['Type'] == 'Num']\n",
    "test_sum_null_cat= test_sum_null[test_sum_null['Type'] == 'Cat']\n",
    "test_sum_null_num\n",
    "# this time we get more missing value than in train.csv\n",
    "# even so, we still only fill the missing value like in train.csv feature before "
   ]
  },
  {
   "cell_type": "raw",
   "id": "9b19cf24",
   "metadata": {},
   "source": [
    "# For LotFrontage and GarageYrBlt, replace null value with it's mean\n",
    "# For MasVnrArea, replace null value with 0 \n",
    "\n",
    "# For Alley, replace null value with 'NA'\n",
    "# For MasVnrType, replace null value with 'None'\n",
    "\n",
    "# For BsmtQual, replace null value with 'NA', except for Id 2218, 2219, replace it with 'TA'(Mode)\n",
    "# For BsmtCond, replace null value with 'NA', except for Id 2041, 2186, 2525, replace it with 'TA'(Mode)\n",
    "# For BsmtExposure, replace null value with 'NA', except for Id 1488 & 2349, replace it with 'No' \n",
    "\n",
    "# For BsmtFinType1, replace null value with 'NA'\n",
    "# For BsmtFinType2, replace null value with 'NA'\n",
    "# For BsmtFinSF1, replace null value with 0\n",
    "# For BsmtFinSF2, replace null value with 0 \n",
    "# For BsmtUnfSF, replace null value with 0 \n",
    "# For TotalBsmtSF, replace null value with 0 \n",
    "\n",
    "# For FireplaceQu, replace null value with 'NA'\n",
    "\n",
    "# For GarageType, replace null value with 'NA' \t\n",
    "# For GarageFinish, replace null value with 'NA', except for Id 2127, 2577, replace it with 'Unf'\n",
    "# For GarageQual, replace null value with 'NA'\n",
    "# For GarageCond, replace null value with 'NA'\n",
    "\n",
    "# For PoolQC, replace null value with 'NA'\n",
    "# For Fence, replace null value with 'NA'\n",
    "# For MiscFeature, replace null value with 'NA'\n",
    "\n"
   ]
  },
  {
   "cell_type": "code",
   "execution_count": null,
   "id": "a16b0eb0",
   "metadata": {},
   "outputs": [],
   "source": [
    "# Dealing with missing value\n",
    "df_test['LotFrontage'] = df_test['LotFrontage'].replace(np.nan, np.mean(df_test['LotFrontage']))\n",
    "df_test['MasVnrArea'] = df_test['MasVnrArea'].replace(np.nan, 0)\n",
    "df_test['Alley'] = df_test['Alley'].replace(np.nan, 'NA')\n",
    "df_test['MasVnrType'] = df_test['MasVnrType'].replace(np.nan, 'None')\n",
    "df_test['BsmtQual'] = np.where(df_test['Id'] == 2218, 'TA', df_test['BsmtQual'])\n",
    "df_test['BsmtQual'] = np.where(df_test['Id'] == 2219, 'TA', df_test['BsmtQual'])\n",
    "df_test['BsmtQual'] = df_test['BsmtQual'].replace(np.nan, 'NA')\n",
    "df_test['BsmtCond'] = np.where(df_test['Id'] == 2041, 'TA', df_test['BsmtCond'])\n",
    "df_test['BsmtCond'] = np.where(df_test['Id'] == 2186, 'TA', df_test['BsmtCond'])\n",
    "df_test['BsmtCond'] = np.where(df_test['Id'] == 2525, 'TA', df_test['BsmtCond'])\n",
    "df_test['BsmtCond'] = df_test['BsmtCond'].replace(np.nan, 'NA')\n",
    "df_test['BsmtExposure'] = np.where(df_test['Id'] == 1488, 'No', df_test['BsmtExposure'])\n",
    "df_test['BsmtExposure'] = np.where(df_test['Id'] == 2349, 'No', df_test['BsmtExposure'])\n",
    "df_test['BsmtExposure'] = df_test['BsmtExposure'].replace(np.nan, 'NA')\n",
    "df_test['BsmtFinType2'] = df_test['BsmtFinType2'].replace(np.nan, 'NA')\n",
    "df_test['BsmtFinType1'] = df_test['BsmtFinType1'].replace(np.nan, 'NA')\n",
    "df_test['FireplaceQu'] = df_test['FireplaceQu'].replace(np.nan, 'NA')\n",
    "df_test['GarageType'] = df_test['GarageType'].replace(np.nan, 'NA')\n",
    "df_test['GarageYrBlt'] = df_test['GarageYrBlt'].replace(np.nan, np.mean(df_test['GarageYrBlt']))\n",
    "df_test['GarageFinish'] = np.where(df_test['Id'] == 2577, 'TA', df_test['GarageFinish'])\n",
    "df_test['GarageFinish'] = np.where(df_test['Id'] == 2041, 'TA', df_test['GarageFinish'])\n",
    "df_test['GarageFinish'] = df_test['GarageFinish'].replace(np.nan, 'NA')\n",
    "df_test['GarageQual'] = df_test['GarageQual'].replace(np.nan, 'NA')\n",
    "df_test['GarageCond'] = df_test['GarageCond'].replace(np.nan, 'NA')\n",
    "df_test['PoolQC'] = df_test['PoolQC'].replace(np.nan, 'NA')\n",
    "df_test['Fence'] = df_test['Fence'].replace(np.nan, 'NA')\n",
    "df_test['MiscFeature'] = df_test['MiscFeature'].replace(np.nan, 'NA')\n"
   ]
  },
  {
   "cell_type": "raw",
   "id": "c66acb36",
   "metadata": {},
   "source": [
    "# Numerical data"
   ]
  },
  {
   "cell_type": "code",
   "execution_count": null,
   "id": "39bdec78",
   "metadata": {},
   "outputs": [],
   "source": [
    "df_test_num = df_test[list(df_test_type['Numerical'][1:37])]\n",
    "df_test_num.columns"
   ]
  },
  {
   "cell_type": "raw",
   "id": "b3d1f4d0",
   "metadata": {},
   "source": [
    "# Create dummy on categorical data"
   ]
  },
  {
   "cell_type": "code",
   "execution_count": null,
   "id": "d8fb1db1",
   "metadata": {},
   "outputs": [],
   "source": [
    "cat_test_ohe = ohe.fit_transform(df_test[list(df_test_type['Categorical'])])"
   ]
  },
  {
   "cell_type": "code",
   "execution_count": null,
   "id": "81ddc903",
   "metadata": {},
   "outputs": [],
   "source": [
    "categorical_test_cols = df_test_type['Categorical']"
   ]
  },
  {
   "cell_type": "code",
   "execution_count": null,
   "id": "e5178172",
   "metadata": {},
   "outputs": [],
   "source": [
    "df_test_cat_ohe = pd.DataFrame(cat_test_ohe,columns= ohe.get_feature_names(input_features = categorical_test_cols))\n",
    "df_test_cat_ohe"
   ]
  },
  {
   "cell_type": "code",
   "execution_count": null,
   "id": "8e30716c",
   "metadata": {
    "scrolled": true
   },
   "outputs": [],
   "source": [
    "df_test_preprocessed = df_test_num.join(df_test_cat_ohe)"
   ]
  },
  {
   "cell_type": "code",
   "execution_count": null,
   "id": "9705c1de",
   "metadata": {},
   "outputs": [],
   "source": [
    "# We will call data from test.csv as 'new'\n",
    "X_new = df_test_preprocessed"
   ]
  },
  {
   "cell_type": "code",
   "execution_count": null,
   "id": "30747c10",
   "metadata": {},
   "outputs": [],
   "source": [
    "# Get missing columns in the training test\n",
    "missing_cols = set(X_train.columns) - set(X_new.columns)\n",
    "# Add a missing column in test.csv set with default value equal to 0\n",
    "for i in missing_cols:\n",
    "    X_new[i] = 0\n",
    "# Ensure the order of column in the test set is in the same order than in train.csv\n",
    "X_new = X_new[X_train.columns]"
   ]
  },
  {
   "cell_type": "code",
   "execution_count": null,
   "id": "86566dc2",
   "metadata": {},
   "outputs": [],
   "source": [
    "y_new_pred = xgbr_log.predict(X_new)\n",
    "y_new_pred"
   ]
  },
  {
   "cell_type": "markdown",
   "id": "fc062c1b",
   "metadata": {},
   "source": [
    "### Prediction"
   ]
  },
  {
   "cell_type": "code",
   "execution_count": null,
   "id": "aaa43c75",
   "metadata": {},
   "outputs": [],
   "source": [
    "# Prediction for test.csv\n",
    "df_test_pf = pd.DataFrame(np.exp(y_new_pred), columns =['Test_Prediction'])\n",
    "df_test_pf.insert(0,'Id',df_test['Id'].values)\n",
    "\n",
    "df_test_pf.head(5)"
   ]
  }
 ],
 "metadata": {
  "kernelspec": {
   "display_name": "Python 3 (ipykernel)",
   "language": "python",
   "name": "python3"
  },
  "language_info": {
   "codemirror_mode": {
    "name": "ipython",
    "version": 3
   },
   "file_extension": ".py",
   "mimetype": "text/x-python",
   "name": "python",
   "nbconvert_exporter": "python",
   "pygments_lexer": "ipython3",
   "version": "3.9.12"
  }
 },
 "nbformat": 4,
 "nbformat_minor": 5
}
